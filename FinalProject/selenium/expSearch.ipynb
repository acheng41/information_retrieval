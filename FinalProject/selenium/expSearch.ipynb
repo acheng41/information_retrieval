{
 "cells": [
  {
   "cell_type": "code",
   "execution_count": 7,
   "id": "5775df92-e285-42e4-ba40-1adc0e8dd2d8",
   "metadata": {},
   "outputs": [],
   "source": [
    "import time\n",
    "from selenium import webdriver\n",
    "from selenium.webdriver.common.by import By\n",
    "from selenium.webdriver.support.ui import WebDriverWait\n",
    "from selenium.webdriver.support import expected_conditions as EC\n",
    "from selenium.webdriver.common.keys import Keys\n",
    "from datetime import datetime\n"
   ]
  },
  {
   "cell_type": "code",
   "execution_count": 8,
   "id": "a032c2d5-244c-4993-89b4-dfd8b7ab6daa",
   "metadata": {},
   "outputs": [],
   "source": [
    "origin = \"BWI\"\n",
    "destination = \"JFK\"\n",
    "day = \"05/08/2024\"\n"
   ]
  },
  {
   "cell_type": "code",
   "execution_count": 11,
   "id": "e24987bf-4cf2-4cf8-a839-d7ba31cb54e1",
   "metadata": {},
   "outputs": [
    {
     "name": "stdout",
     "output_type": "stream",
     "text": [
      "May 08, 2024\n"
     ]
    }
   ],
   "source": [
    "input_date = datetime.strptime(day, \"%m/%d/%Y\")\n",
    "\n",
    "# Format the date string to the desired output format\n",
    "date_string = input_date.strftime(\"%B %d, %Y\")\n",
    "print(date_string)\n",
    "#Saturday, May 18, 2024"
   ]
  },
  {
   "cell_type": "code",
   "execution_count": 3,
   "id": "a19b7924-8834-4c0e-a4af-4a1e98103220",
   "metadata": {},
   "outputs": [],
   "source": [
    "# Set up the WebDriver\n",
    "driver = webdriver.Chrome()\n",
    "# Navigate to the Expedia flights page\n",
    "driver.get(\"https://www.expedia.com/Flights\")"
   ]
  },
  {
   "cell_type": "code",
   "execution_count": 4,
   "id": "fe60b678-b9df-4809-a6d3-08ee237acc81",
   "metadata": {},
   "outputs": [],
   "source": [
    "# Click on the One-way link\n",
    "one_way_link = WebDriverWait(driver, 10).until(\n",
    "        EC.element_to_be_clickable((By.XPATH, '//a[contains(@class, \"uitk-tab-anchor\") and contains(.,\"One-way\")]'))\n",
    "    )\n",
    "one_way_link.click()\n",
    "\n",
    "# Click on the \"Leaving from\" button\n",
    "origin_button = WebDriverWait(driver, 10).until(\n",
    "    EC.element_to_be_clickable((By.XPATH, '//button[@aria-label=\"Leaving from\"]'))\n",
    ")\n",
    "origin_button.click()\n",
    "\n",
    "# Enter origin\n",
    "origin_input = WebDriverWait(driver, 10).until(\n",
    "    EC.visibility_of_element_located((By.XPATH, '//input[@placeholder=\"Leaving from\"]'))\n",
    ")\n",
    "origin_input.send_keys(origin)\n",
    "origin_input.send_keys(Keys.RETURN)\n",
    "\n",
    "# Click on the \"Going to\" button\n",
    "destination_button = WebDriverWait(driver, 10).until(\n",
    "    EC.element_to_be_clickable((By.XPATH, '//button[@aria-label=\"Going to\"]'))\n",
    ")\n",
    "destination_button.click()\n",
    "\n",
    "# Enter destination\n",
    "destination_input = WebDriverWait(driver, 10).until(\n",
    "    EC.visibility_of_element_located((By.XPATH, '//input[@placeholder=\"Going to\"]'))\n",
    ")\n",
    "destination_input.send_keys(destination)\n",
    "destination_input.send_keys(Keys.RETURN)"
   ]
  },
  {
   "cell_type": "code",
   "execution_count": 5,
   "id": "0a9d65a8-eb6e-46d0-9e14-2ac42ebbad53",
   "metadata": {},
   "outputs": [],
   "source": [
    "# Click on the Date Picker button to open the Date Picker\n",
    "date_picker_button = WebDriverWait(driver, 10).until(EC.element_to_be_clickable((By.ID, \"date_form_field-btn\")))\n",
    "date_picker_button.click()"
   ]
  },
  {
   "cell_type": "code",
   "execution_count": 35,
   "id": "f5b72297-9787-439b-90c5-7ad22c4247d4",
   "metadata": {},
   "outputs": [
    {
     "name": "stdout",
     "output_type": "stream",
     "text": [
      "11\n"
     ]
    }
   ],
   "source": [
    "# Wait for the calendar to load\n",
    "WebDriverWait(driver, 10).until(EC.visibility_of_element_located((By.CLASS_NAME, 'uitk-calendar')))\n",
    "hj = driver.find_elements(By.CLASS_NAME, 'uitk-date-picker-month')\n",
    "print(len(hj))\n",
    "hj[2].find_element(By.XPATH,'//button[@data-day=\"' + '14' + '\"]')\n",
    "\n",
    "# # day_path = \"//div[@class='uitk-day-aria-label' and @aria-label='{}, Selected date']\".format(date_string)\n",
    "# day_path =\"//button[contains(@aria-label, '{}')]\".format(date_string)\n",
    "\n",
    "# # day_path = '//button[@data-day=\"' + day + '\"]'\n",
    "# # Click on the specific day\n",
    "# # day_button = WebDriverWait(driver, 10).until(\n",
    "# #     EC.element_to_be_clickable((By.XPATH, day_path))\n",
    "# # )\n",
    "# day_button = driver.find_element(By.XPATH, day_path)\n",
    "# day_button.click()\n",
    "\n",
    "# # Click on the \"Done\" button\n",
    "# done_button = WebDriverWait(driver, 10).until(\n",
    "#     EC.element_to_be_clickable((By.XPATH, '//button[@data-stid=\"apply-date-picker\"]'))\n",
    "# )\n",
    "# done_button.click()"
   ]
  },
  {
   "cell_type": "code",
   "execution_count": null,
   "id": "2ea94989-8428-4018-9f1c-983bccaa6a65",
   "metadata": {},
   "outputs": [],
   "source": [
    "    # Click on the search button\n",
    "    search_button = WebDriverWait(driver, 10).until(\n",
    "        EC.element_to_be_clickable((By.XPATH, '//button[@id=\"search_button\"]'))\n",
    "    )\n",
    "    search_button.click()\n",
    "\n",
    "    # Wait for the flight listings to load\n",
    "    WebDriverWait(driver, 60).until(\n",
    "        EC.visibility_of_element_located((By.XPATH, '//li[@data-test-id=\"offer-listing\"]'))\n",
    "    )\n",
    "\n",
    "    all_listing_info = []\n",
    "\n",
    "    while True:\n",
    "        # Find all flight listings\n",
    "        listings = driver.find_elements(By.XPATH, '//li[@data-test-id=\"offer-listing\"]')\n",
    "        # Iterate through each listing\n",
    "        for listing in listings:\n",
    "            # Dictionary to store information for the current listing\n",
    "            listing_info = {}\n",
    "\n",
    "            # Find elements within the current listing\n",
    "            duration = listing.find_element(By.CSS_SELECTOR, '[data-test-id=\"journey-duration\"]').text\n",
    "            price = listing.find_element(By.CSS_SELECTOR, '.uitk-lockup-price').text\n",
    "            airline_info = listing.find_element(By.CSS_SELECTOR, '[data-test-id=\"flight-operated\"]').text.split(' • ')[0]\n",
    "            dept, arr = listing.find_element(By.CSS_SELECTOR, '[data-test-id=\"departure-time\"]').text.split(' - ')    \n",
    "\n",
    "            # link_button = listing.find_element(By.XPATH, './/button[@data-test-id=\"select-link\"]')\n",
    "            # link = link_button.get_attribute(\"onclick\").split(\"window.open('\")[1].split(\"')\")[0]     \n",
    "\n",
    "            # Store information in the dictionary\n",
    "            # listing_info['Link'] = link\n",
    "            listing_info['Dept'] = dept\n",
    "            listing_info['Arr'] = arr\n",
    "            listing_info['Duration'] = duration\n",
    "            listing_info['Price'] = price\n",
    "            listing_info['Company'] = airline_info\n",
    "\n",
    "            # Add the dictionary to the list\n",
    "            all_listing_info.append(listing_info)\n",
    "\n",
    "        # Scroll to load more listings\n",
    "        driver.execute_script(\"window.scrollTo(0, document.body.scrollHeight);\")\n",
    "        # Wait for some time to let new listings load\n",
    "        time.sleep(3)\n",
    "        more_listings = driver.find_elements(By.XPATH, '//li[@data-test-id=\"offer-listing\"]')\n",
    "\n",
    "        if len(more_listings) == len(listings):\n",
    "            break\n",
    "        # Check if there are more listings\n",
    "\n",
    "    #Print all flight listings\n",
    "    # for listing_info in all_listing_info:\n",
    "    #     print(listing_info)\n",
    "    #     print(\"\\n\")\n",
    "\n",
    "    # print(\"done - expedia.com\")\n",
    "\n",
    "    # Close the browser\n",
    "    time.sleep(30)\n",
    "    driver.quit()\n",
    "\n",
    "    return all_listing_info\n",
    "\n",
    "if __name__ == '__main__':\n",
    "    listings = expSearch(\"BWI\", \"JFK\", \"14\")\n",
    "    print(listings)"
   ]
  }
 ],
 "metadata": {
  "kernelspec": {
   "display_name": "Python 3",
   "language": "python",
   "name": "python3"
  },
  "language_info": {
   "codemirror_mode": {
    "name": "ipython",
    "version": 3
   },
   "file_extension": ".py",
   "mimetype": "text/x-python",
   "name": "python",
   "nbconvert_exporter": "python",
   "pygments_lexer": "ipython3",
   "version": "3.8.8"
  }
 },
 "nbformat": 4,
 "nbformat_minor": 5
}
