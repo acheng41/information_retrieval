{
 "cells": [
  {
   "cell_type": "code",
   "execution_count": 31,
   "id": "e252d6e4-1d3e-455c-8350-83e1fc982620",
   "metadata": {},
   "outputs": [],
   "source": [
    "from selenium import webdriver\n",
    "from selenium.webdriver.common.by import By\n",
    "from selenium.webdriver.support.ui import WebDriverWait\n",
    "from selenium.webdriver.support import expected_conditions as EC\n",
    "from selenium.webdriver.common.keys import Keys\n",
    "from selenium.common.exceptions import StaleElementReferenceException, NoSuchElementException\n",
    "from selenium.webdriver.chrome.options import Options\n",
    "from selenium.webdriver.common.action_chains import ActionChains\n",
    "\n",
    "from WUPageSearch import pagesearch\n",
    "\n",
    "from datetime import datetime\n"
   ]
  },
  {
   "cell_type": "code",
   "execution_count": 32,
   "id": "67638ad6-3073-4da2-8588-bc0e86e23ea3",
   "metadata": {},
   "outputs": [],
   "source": [
    "origin = \"Baltimore, MD\"\n",
    "destination = \"New York, NY\"\n",
    "date = \"05/08/2024\""
   ]
  },
  {
   "cell_type": "code",
   "execution_count": 33,
   "id": "9ac5403b-74d4-499d-9c78-9aece7ac3c98",
   "metadata": {},
   "outputs": [
    {
     "name": "stdout",
     "output_type": "stream",
     "text": [
      "Formatted Date: May 2024\n",
      "Day Integer: 8\n"
     ]
    }
   ],
   "source": [
    "#Reformat Date \n",
    "# Parse the date string into a datetime object\n",
    "date_obj = datetime.strptime(date, \"%m/%d/%Y\")\n",
    "# Format the month and year into \"Month Year\" format\n",
    "formatted_date_str = date_obj.strftime(\"%B %Y\")\n",
    "# Extract the day as an integer\n",
    "day_integer = date_obj.day\n",
    "\n",
    "print(\"Formatted Date:\", formatted_date_str)\n",
    "print(\"Day Integer:\", day_integer)"
   ]
  },
  {
   "cell_type": "code",
   "execution_count": 34,
   "id": "9aa7f29a-cb23-4f3d-92c6-0a7f9c397699",
   "metadata": {},
   "outputs": [
    {
     "name": "stdout",
     "output_type": "stream",
     "text": [
      "Driver Initialized\n"
     ]
    }
   ],
   "source": [
    "driver = webdriver.Chrome()\n",
    "\n",
    "\n",
    "# Navigate to the wanderu.com website\n",
    "driver.get(\"https://www.wanderu.com\")\n",
    "print(\"Driver Initialized\")"
   ]
  },
  {
   "cell_type": "code",
   "execution_count": 35,
   "id": "46bbd959-e529-4e8a-9e69-3d0ff2aa827e",
   "metadata": {},
   "outputs": [
    {
     "name": "stdout",
     "output_type": "stream",
     "text": [
      "found origin\n"
     ]
    }
   ],
   "source": [
    "# Select One Way Search\n",
    "# one_way = driver.find_element(By.ID, \"tab-one-way\")\n",
    "# round_trip =  driver.find_element(By.ID, \"tab-round-trip\")\n",
    "\n",
    "# Find Search Bar for Departure Location\n",
    "origin_search = driver.find_element(By.XPATH,'//input[@aria-label=\"departure\" and @data-id=\"origin\"]')\n",
    "origin_search.click()\n",
    "print(\"found origin\")\n",
    "origin_search.send_keys(origin)\n",
    "origin_search.send_keys(Keys.RETURN)"
   ]
  },
  {
   "cell_type": "code",
   "execution_count": 36,
   "id": "43147f82-2668-4fe3-b5ab-881b86d0e80b",
   "metadata": {},
   "outputs": [
    {
     "name": "stdout",
     "output_type": "stream",
     "text": [
      "found destination\n"
     ]
    }
   ],
   "source": [
    "# Find Search Bar for Arrival Location\n",
    "destination_search = driver.find_element(By.XPATH,'//input[@aria-label=\"arrival\" and @data-id=\"destination\"]')\n",
    "destination_search.click()\n",
    "print(\"found destination\")\n",
    "destination_search.send_keys(destination)\n",
    "destination_search.send_keys(Keys.RETURN)"
   ]
  },
  {
   "cell_type": "code",
   "execution_count": 37,
   "id": "ebba445e-6cef-4017-ad66-b9a201e99ab6",
   "metadata": {},
   "outputs": [
    {
     "name": "stdout",
     "output_type": "stream",
     "text": [
      "unchecked hotel finder\n"
     ]
    }
   ],
   "source": [
    "# Uncheck Find Cheap Hotels\n",
    "ads_button = driver.find_element(By.CLASS_NAME, \"ZDzGDfvBWCtG\")\n",
    "ads_button.click()\n",
    "print(\"unchecked hotel finder\")"
   ]
  },
  {
   "cell_type": "code",
   "execution_count": 38,
   "id": "3805d5d5-3940-418d-92d8-fa75ca1bc35d",
   "metadata": {},
   "outputs": [
    {
     "name": "stdout",
     "output_type": "stream",
     "text": [
      "date input\n"
     ]
    }
   ],
   "source": [
    "# Set Calendar\n",
    "date_search = driver.find_element(By.CLASS_NAME, \"LtV56aME5ABC\")\n",
    "date_search.click()\n",
    "# WebDriverWait(driver, 3).until(EC.visibilityOfElementLocated(By.CLASS_NAME, \"LtV56aME5ABC\"))\n",
    "month_year = driver.find_element(By.XPATH, '//span[@data-id=\"header-date\"]').text\n",
    "# prev_button = driver.find_element(By.XPATH, '//button[@aria-label=\"previous-month\"]')\n",
    "next_button = driver.find_element(By.XPATH, '//button[@aria-label=\"next-month\"]')\n",
    "cal_target  = datetime.strptime(formatted_date_str, \"%B %Y\")\n",
    "while(month_year != formatted_date_str):\n",
    "    current = datetime.strptime(month_year, \"%B %Y\")\n",
    "    # Compare the datetime objects\n",
    "    if current < cal_target:\n",
    "        next_button.click()\n",
    "    month_year = driver.find_element(By.XPATH, '//span[@data-id=\"header-date\"]').text\n",
    "\n",
    "target_date = driver.find_element(By.XPATH, '//td[@aria-label=\"{}-active\"]'.format(day_integer))\n",
    "target_date.click()\n",
    "\n",
    "print(\"date input\")"
   ]
  },
  {
   "cell_type": "code",
   "execution_count": 39,
   "id": "ed0732ee-02eb-42de-905b-a45ddec19928",
   "metadata": {},
   "outputs": [
    {
     "name": "stdout",
     "output_type": "stream",
     "text": [
      "clicked search button\n"
     ]
    }
   ],
   "source": [
    "#Find Search Button\n",
    "search_button = driver.find_element(By.XPATH, '//button[@type=\"button\" and @label=\"Search\"]')\n",
    "# search_button = WebDriverWait(driver, 3).until(EC.element_to_be_clickable((By.XPATH, \"//button[contains(@class, 'C9btmpKqYElu')]\")))\n",
    "search_button.click()\n",
    "print(\"clicked search button\")"
   ]
  },
  {
   "cell_type": "code",
   "execution_count": 45,
   "id": "18f3125d-79f4-4d38-84ef-e4cc24689df0",
   "metadata": {},
   "outputs": [],
   "source": [
    "# #Get Train Listing\n",
    "hover_train = driver.find_element(By.XPATH,'//span[@class=\"_0-gBaFd8Iwkq\" and text()=\"Trains\"]')\n",
    "# Create an ActionChains object\n",
    "action_train = ActionChains(driver)\n",
    "# Hover over the element\n",
    "action_train.move_to_element(hover_train).move_by_offset(20, 0).click().perform();\n"
   ]
  },
  {
   "cell_type": "code",
   "execution_count": 41,
   "id": "5868ac19-4447-4cb8-8331-d3f82caab4d5",
   "metadata": {},
   "outputs": [],
   "source": [
    "# #Get Bus Listing\n",
    "hover_bus = driver.find_element(By.XPATH,'//span[@class=\"_0-gBaFd8Iwkq\" and text()=\"Buses\"]')\n",
    "# Create an ActionChains object\n",
    "action_bus = ActionChains(driver)\n",
    "# Hover over the element\n",
    "action_bus.move_to_element(hover_bus).move_by_offset(20, 0).click().perform();\n"
   ]
  },
  {
   "cell_type": "code",
   "execution_count": null,
   "id": "140c3584-ce5b-425b-901f-3bb70e930e07",
   "metadata": {},
   "outputs": [],
   "source": [
    "# Wait for the search results to load\n",
    "import time\n",
    "time.sleep(10)\n",
    "\n",
    "\n",
    "# #Get Bus Listing\n",
    "# bus_select = driver.find_element(By.CLASS_NAME, \"qzpQl44t9ZqQ\")\n",
    "# bus_select.click()\n",
    "\n",
    "# #Get Train Listings\n",
    "listings = driver.find_elements(By.CLASS_NAME, \"jlnsJ9HbqHu3\")\n",
    "# print(listings)\n",
    "\n",
    "results = []\n",
    "\n",
    "for i,ele in enumerate(listings):\n",
    "\n",
    "    values = {}\n",
    "    try:\n",
    "        price = ele.find_element(By.XPATH, \"//span[@aria-label='Price' and @aria-live='polite']\").text\n",
    "        # print(price)\n",
    "        dept = ele.find_element(By.XPATH, \"//div[@aria-label='depart' and @aria-live='polite']\").text\n",
    "        # print(dept)\n",
    "        arr = ele.find_element(By.XPATH, \"//div[@aria-label='arrive' and @aria-live='polite']\").text\n",
    "        # print(arr)\n",
    "        values['Price'] = price\n",
    "        values['Dept'] = dept\n",
    "        values['Arr'] = arr\n",
    "        print(values)\n",
    "    except StaleElementReferenceException:\n",
    "        # # Retry the element lookup in case of StaleElementReferenceException\n",
    "        listing = ele.find_element(By.CLASS_NAME, \"titlestring\")\n",
    "        # #name = listing.text\n",
    "        # link = listing.get_attribute(\"href\")\n",
    "        # beds, bath, address, price = pagesearch(link)\n",
    "        # #price = ele.find_element(By.CLASS_NAME, \"priceinfo\").text\n",
    "        # name = beds + 'BR/' + bath + 'Ba unit at ' + address\n",
    "    # print(name, '|', link, '|', price)\n",
    "    results.append(values)\n",
    "    # print(ele)\n",
    "    if i>0:\n",
    "        break\n",
    "\n",
    "print(\"done - craigslist.org\")\n",
    "print(str(results[i])+\"\\n\" for i in range(len(results)))\n",
    "\n",
    "# Close the browser\n",
    "# input()\n",
    "driver.quit()\n",
    "# print(results)\n",
    "return results"
   ]
  }
 ],
 "metadata": {
  "kernelspec": {
   "display_name": "Python 3",
   "language": "python",
   "name": "python3"
  },
  "language_info": {
   "codemirror_mode": {
    "name": "ipython",
    "version": 3
   },
   "file_extension": ".py",
   "mimetype": "text/x-python",
   "name": "python",
   "nbconvert_exporter": "python",
   "pygments_lexer": "ipython3",
   "version": "3.8.8"
  }
 },
 "nbformat": 4,
 "nbformat_minor": 5
}
