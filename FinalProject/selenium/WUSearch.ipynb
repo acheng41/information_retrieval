{
 "cells": [
  {
   "cell_type": "code",
   "execution_count": 1,
   "id": "e252d6e4-1d3e-455c-8350-83e1fc982620",
   "metadata": {},
   "outputs": [],
   "source": [
    "from selenium import webdriver\n",
    "from selenium.webdriver.common.by import By\n",
    "from selenium.webdriver.support.ui import WebDriverWait\n",
    "from selenium.webdriver.support import expected_conditions as EC\n",
    "from selenium.webdriver.common.keys import Keys\n",
    "from selenium.common.exceptions import StaleElementReferenceException, NoSuchElementException\n",
    "from selenium.webdriver.chrome.options import Options\n",
    "from selenium.webdriver.common.action_chains import ActionChains\n",
    "\n",
    "from WUPageSearch import pagesearch\n",
    "\n",
    "from datetime import datetime\n"
   ]
  },
  {
   "cell_type": "code",
   "execution_count": 2,
   "id": "67638ad6-3073-4da2-8588-bc0e86e23ea3",
   "metadata": {},
   "outputs": [],
   "source": [
    "origin = \"BWI\"\n",
    "destination = \"NY\"\n",
    "date = \"05/08/2024\""
   ]
  },
  {
   "cell_type": "code",
   "execution_count": 3,
   "id": "9ac5403b-74d4-499d-9c78-9aece7ac3c98",
   "metadata": {},
   "outputs": [
    {
     "name": "stdout",
     "output_type": "stream",
     "text": [
      "Formatted Date: May 2024\n",
      "Day Integer: 8\n"
     ]
    }
   ],
   "source": [
    "if origin == \"BWI\": \n",
    "    origin = \"Baltimore, MD\"\n",
    "else: \n",
    "    origin = \"New York, NY\"\n",
    "    \n",
    "if destination == \"BWI\": \n",
    "    destination = \"Baltimore, MD\"\n",
    "else: \n",
    "    destination = \"New York, NY\"\n",
    "    \n",
    "#Reformat Date \n",
    "# Parse the date string into a datetime object\n",
    "date_obj = datetime.strptime(date, \"%m/%d/%Y\")\n",
    "# Format the month and year into \"Month Year\" format\n",
    "formatted_date_str = date_obj.strftime(\"%B %Y\")\n",
    "# Extract the day as an integer\n",
    "day_integer = date_obj.day\n",
    "\n",
    "print(\"Formatted Date:\", formatted_date_str)\n",
    "print(\"Day Integer:\", day_integer)"
   ]
  },
  {
   "cell_type": "code",
   "execution_count": 4,
   "id": "9aa7f29a-cb23-4f3d-92c6-0a7f9c397699",
   "metadata": {},
   "outputs": [
    {
     "name": "stdout",
     "output_type": "stream",
     "text": [
      "Driver Initialized\n"
     ]
    }
   ],
   "source": [
    "driver = webdriver.Chrome()\n",
    "\n",
    "\n",
    "# Navigate to the wanderu.com website\n",
    "driver.get(\"https://www.wanderu.com\")\n",
    "print(\"Driver Initialized\")"
   ]
  },
  {
   "cell_type": "code",
   "execution_count": 5,
   "id": "46bbd959-e529-4e8a-9e69-3d0ff2aa827e",
   "metadata": {},
   "outputs": [
    {
     "name": "stdout",
     "output_type": "stream",
     "text": [
      "found origin\n"
     ]
    }
   ],
   "source": [
    "# Select One Way Search\n",
    "# one_way = driver.find_element(By.ID, \"tab-one-way\")\n",
    "# round_trip =  driver.find_element(By.ID, \"tab-round-trip\")\n",
    "\n",
    "# Find Search Bar for Departure Location\n",
    "origin_search = driver.find_element(By.XPATH,'//input[@aria-label=\"departure\" and @data-id=\"origin\"]')\n",
    "origin_search.click()\n",
    "origin_search.clear()\n",
    "print(\"found origin\")\n",
    "origin_search.send_keys(origin)\n",
    "origin_search.send_keys(Keys.RETURN)"
   ]
  },
  {
   "cell_type": "code",
   "execution_count": 6,
   "id": "43147f82-2668-4fe3-b5ab-881b86d0e80b",
   "metadata": {},
   "outputs": [
    {
     "name": "stdout",
     "output_type": "stream",
     "text": [
      "found destination\n"
     ]
    }
   ],
   "source": [
    "# Find Search Bar for Arrival Location\n",
    "destination_search = driver.find_element(By.XPATH,'//input[@aria-label=\"arrival\" and @data-id=\"destination\"]')\n",
    "destination_search.click()\n",
    "print(\"found destination\")\n",
    "destination_search.send_keys(destination)\n",
    "destination_search.send_keys(Keys.RETURN)"
   ]
  },
  {
   "cell_type": "code",
   "execution_count": 7,
   "id": "ebba445e-6cef-4017-ad66-b9a201e99ab6",
   "metadata": {},
   "outputs": [
    {
     "name": "stdout",
     "output_type": "stream",
     "text": [
      "unchecked hotel finder\n"
     ]
    }
   ],
   "source": [
    "# Uncheck Find Cheap Hotels\n",
    "ads_button = driver.find_element(By.CLASS_NAME, \"ZDzGDfvBWCtG\")\n",
    "ads_button.click()\n",
    "print(\"unchecked hotel finder\")"
   ]
  },
  {
   "cell_type": "code",
   "execution_count": 8,
   "id": "3805d5d5-3940-418d-92d8-fa75ca1bc35d",
   "metadata": {},
   "outputs": [
    {
     "name": "stdout",
     "output_type": "stream",
     "text": [
      "date input\n"
     ]
    }
   ],
   "source": [
    "# Set Calendar\n",
    "date_search = driver.find_element(By.CLASS_NAME, \"LtV56aME5ABC\")\n",
    "date_search.click()\n",
    "# WebDriverWait(driver, 3).until(EC.visibilityOfElementLocated(By.CLASS_NAME, \"LtV56aME5ABC\"))\n",
    "month_year = driver.find_element(By.XPATH, '//span[@data-id=\"header-date\"]').text\n",
    "# prev_button = driver.find_element(By.XPATH, '//button[@aria-label=\"previous-month\"]')\n",
    "next_button = driver.find_element(By.XPATH, '//button[@aria-label=\"next-month\"]')\n",
    "cal_target  = datetime.strptime(formatted_date_str, \"%B %Y\")\n",
    "while(month_year != formatted_date_str):\n",
    "    current = datetime.strptime(month_year, \"%B %Y\")\n",
    "    # Compare the datetime objects\n",
    "    if current < cal_target:\n",
    "        next_button.click()\n",
    "    month_year = driver.find_element(By.XPATH, '//span[@data-id=\"header-date\"]').text\n",
    "\n",
    "target_date = driver.find_element(By.XPATH, '//td[@aria-label=\"{}-active\"]'.format(day_integer))\n",
    "target_date.click()\n",
    "\n",
    "print(\"date input\")"
   ]
  },
  {
   "cell_type": "code",
   "execution_count": 9,
   "id": "ed0732ee-02eb-42de-905b-a45ddec19928",
   "metadata": {},
   "outputs": [
    {
     "name": "stdout",
     "output_type": "stream",
     "text": [
      "clicked search button\n"
     ]
    }
   ],
   "source": [
    "#Find Search Button\n",
    "search_button = driver.find_element(By.XPATH, '//button[@type=\"button\" and @label=\"Search\"]')\n",
    "# search_button = WebDriverWait(driver, 3).until(EC.element_to_be_clickable((By.XPATH, \"//button[contains(@class, 'C9btmpKqYElu')]\")))\n",
    "search_button.click()\n",
    "print(\"clicked search button\")"
   ]
  },
  {
   "cell_type": "code",
   "execution_count": 83,
   "id": "18f3125d-79f4-4d38-84ef-e4cc24689df0",
   "metadata": {},
   "outputs": [],
   "source": [
    "# #Get Train Listing\n",
    "hover_train = driver.find_element(By.XPATH,'//span[@class=\"_0-gBaFd8Iwkq\" and text()=\"Trains\"]')\n",
    "# Create an ActionChains object\n",
    "action_train = ActionChains(driver)\n",
    "# Hover over the element\n",
    "action_train.move_to_element(hover_train).move_by_offset(20, 0).click().perform();\n"
   ]
  },
  {
   "cell_type": "code",
   "execution_count": 41,
   "id": "5868ac19-4447-4cb8-8331-d3f82caab4d5",
   "metadata": {},
   "outputs": [],
   "source": [
    "# #Get Bus Listing\n",
    "hover_bus = driver.find_element(By.XPATH,'//span[@class=\"_0-gBaFd8Iwkq\" and text()=\"Buses\"]')\n",
    "# Create an ActionChains object\n",
    "action_bus = ActionChains(driver)\n",
    "# Hover over the element\n",
    "action_bus.move_to_element(hover_bus).move_by_offset(20, 0).click().perform();\n"
   ]
  },
  {
   "cell_type": "code",
   "execution_count": 34,
   "id": "94a1684b-fd33-45fc-ba9e-7087943fcd64",
   "metadata": {},
   "outputs": [
    {
     "name": "stdout",
     "output_type": "stream",
     "text": [
      "20\n"
     ]
    }
   ],
   "source": [
    "# # Wait for the search results to load\n",
    "# import time\n",
    "# time.sleep(10)\n",
    "\n",
    "#Press Button for all Listings\n",
    "\n",
    "num_listings = driver.find_elements(By.CLASS_NAME, \"_8F5FhShfDaF3\")\n",
    "current = int(num_listings[0].text)\n",
    "total = int(num_listings[1].text)\n",
    "\n",
    "while(current < total): \n",
    "    see_more = driver.find_elements(By.CLASS_NAME, \"C9btmpKqYElu\")[-1]\n",
    "    see_more.click()\n",
    "    WebDriverWait(driver, 10)\n",
    "    current = int(driver.find_elements(By.CLASS_NAME, \"_8F5FhShfDaF3\")[0].text)\n",
    "    WebDriverWait(driver, 10)\n",
    "\n",
    "\n"
   ]
  },
  {
   "cell_type": "code",
   "execution_count": 35,
   "id": "757c14ad-faf6-4c5c-a6d7-6973c6260b8e",
   "metadata": {},
   "outputs": [
    {
     "name": "stdout",
     "output_type": "stream",
     "text": [
      "155\n",
      "{'Dept': '1:00 PM', 'Arr': '4:30 PM', 'Duration': '3h 30m', 'Price': '$15.00', 'Company': 'Peter Pan Lines'}\n",
      "{'Dept': '4:55 PM', 'Arr': '8:20 PM', 'Duration': '3h 25m', 'Price': '$15.99', 'Company': 'FlixBus US'}\n",
      "{'Dept': '9:59 PM', 'Arr': '12:45 AM', 'Duration': '2h 46m', 'Price': '$69.00', 'Company': 'Amtrak'}\n",
      "{'Dept': '6:30 AM', 'Arr': '9:30 AM', 'Duration': '3h 0m', 'Price': '$19.50', 'Company': 'CoachRun'}\n",
      "{'Dept': '10:40 AM', 'Arr': '2:20 PM', 'Duration': '3h 40m', 'Price': '$15.99', 'Company': 'Greyhound'}\n",
      "{'Dept': '3:34 PM', 'Arr': '5:48 PM', 'Duration': '2h 14m', 'Price': '$179.00', 'Company': 'Amtrak Acela'}\n",
      "{'Dept': '2:15 AM', 'Arr': '5:30 AM', 'Duration': '3h 15m', 'Price': '$35.00', 'Company': 'Wanda Coach'}\n",
      "{'Dept': '6:15 AM', 'Arr': 'Pikesville, MD', 'Duration': '3h 30m', 'Price': '$55.00', 'Company': 'OurBus'}\n",
      "{'Dept': '4:00 PM', 'Arr': '7:30 PM', 'Duration': '3h 30m', 'Price': '$15.00', 'Company': 'Peter Pan Lines'}\n",
      "{'Dept': '9:00 AM', 'Arr': '12:30 PM', 'Duration': '3h 30m', 'Price': '$15.00', 'Company': 'Peter Pan Lines'}\n",
      "{'Dept': '8:42 PM', 'Arr': '11:23 PM', 'Duration': '2h 41m', 'Price': '$69.00', 'Company': 'Amtrak Palmetto'}\n",
      "{'Dept': '10:30 AM', 'Arr': '2:00 PM', 'Duration': '3h 30m', 'Price': '$15.00', 'Company': 'Peter Pan Lines'}\n",
      "{'Dept': '3:10 PM', 'Arr': '7:15 PM', 'Duration': '4h 5m', 'Price': '$15.99', 'Company': 'Greyhound'}\n",
      "{'Dept': '3:00 PM', 'Arr': '6:30 PM', 'Duration': '3h 30m', 'Price': '$15.00', 'Company': 'Peter Pan Lines'}\n",
      "{'Dept': '6:00 PM', 'Arr': '9:30 PM', 'Duration': '3h 30m', 'Price': '$15.00', 'Company': 'Peter Pan Lines'}\n",
      "{'Dept': '10:51 PM', 'Arr': '1:57 AM', 'Duration': '3h 6m', 'Price': '$69.00', 'Company': 'Amtrak Northeast Regional'}\n",
      "{'Dept': '8:00 AM', 'Arr': '11:30 AM', 'Duration': '3h 30m', 'Price': '$17.00', 'Company': 'Peter Pan Lines'}\n",
      "{'Dept': '6:50 PM', 'Arr': '10:10 PM', 'Duration': '3h 20m', 'Price': '$21.49', 'Company': 'Greyhound'}\n",
      "{'Dept': '7:00 PM', 'Arr': '10:30 PM', 'Duration': '3h 30m', 'Price': '$17.00', 'Company': 'Peter Pan Lines'}\n",
      "{'Dept': '11:05 AM', 'Arr': '2:25 PM', 'Duration': '3h 20m', 'Price': '$21.49', 'Company': 'FlixBus US'}\n",
      "{'Dept': '8:52 AM', 'Arr': '11:21 AM', 'Duration': '2h 29m', 'Price': '$96.00', 'Company': 'Amtrak Vermonter'}\n",
      "{'Dept': '9:25 PM', 'Arr': '12:45 AM', 'Duration': '3h 20m', 'Price': '$21.49', 'Company': 'Greyhound'}\n",
      "{'Dept': '4:50 AM', 'Arr': '8:20 AM', 'Duration': '3h 30m', 'Price': '$21.49', 'Company': 'FlixBus US'}\n",
      "{'Dept': '5:30 PM', 'Arr': '9:10 PM', 'Duration': '3h 40m', 'Price': '$21.49', 'Company': 'Greyhound'}\n",
      "{'Dept': '7:25 AM', 'Arr': '11:00 AM', 'Duration': '3h 35m', 'Price': '$26.49', 'Company': 'FlixBus US'}\n",
      "{'Dept': '7:00 PM', 'Arr': '9:20 PM', 'Duration': '2h 20m', 'Price': '$228.00', 'Company': 'Amtrak Acela'}\n",
      "{'Dept': '8:20 AM', 'Arr': '12:20 PM', 'Duration': '4h 0m', 'Price': '$21.49', 'Company': 'Greyhound'}\n",
      "{'Dept': '9:45 AM', 'Arr': '1:05 PM', 'Duration': '3h 20m', 'Price': '$28.99', 'Company': 'Greyhound'}\n",
      "{'Dept': '9:55 AM', 'Arr': '1:30 PM', 'Duration': '3h 35m', 'Price': '$28.99', 'Company': 'FlixBus US'}\n",
      "{'Dept': '8:05 AM', 'Arr': '11:30 AM', 'Duration': '3h 25m', 'Price': '$28.99', 'Company': 'FlixBus US'}\n",
      "{'Dept': '9:37 AM', 'Arr': '12:12 PM', 'Duration': '2h 35m', 'Price': '$96.00', 'Company': 'Amtrak Northeast Regional'}\n",
      "{'Dept': '12:05 PM', 'Arr': '3:30 PM', 'Duration': '3h 25m', 'Price': '$28.99', 'Company': 'FlixBus US'}\n",
      "{'Dept': '7:25 AM', 'Arr': '1:25 PM', 'Duration': '6h 0m', 'Price': '$15.99', 'Company': 'Greyhound'}\n",
      "{'Dept': '1:45 AM', 'Arr': '5:40 AM', 'Duration': '3h 55m', 'Price': '$28.99', 'Company': 'Greyhound'}\n",
      "{'Dept': '11:59 PM', 'Arr': '3:45 AM', 'Duration': '3h 46m', 'Price': '$28.99', 'Company': 'FlixBus US'}\n",
      "{'Dept': '12:47 PM', 'Arr': '3:20 PM', 'Duration': '2h 33m', 'Price': '$96.00', 'Company': 'Amtrak Northeast Regional'}\n",
      "{'Dept': '9:45 PM', 'Arr': '1:35 AM', 'Duration': '3h 50m', 'Price': '$28.99', 'Company': 'FlixBus US'}\n",
      "{'Dept': '2:25 PM', 'Arr': '7:15 PM', 'Duration': '4h 50m', 'Price': '$28.99', 'Company': 'Greyhound'}\n",
      "{'Dept': '4:15 PM', 'Arr': '8:55 PM', 'Duration': '4h 40m', 'Price': '$28.99', 'Company': 'Greyhound'}\n",
      "{'Dept': '4:20 AM', 'Arr': '8:55 AM', 'Duration': '4h 35m', 'Price': '$29.99', 'Company': 'Greyhound'}\n",
      "{'Dept': '2:48 PM', 'Arr': '5:24 PM', 'Duration': '2h 36m', 'Price': '$96.00', 'Company': 'Amtrak Northeast Regional'}\n",
      "{'Dept': '11:01 AM', 'Arr': '1:20 PM', 'Duration': '2h 19m', 'Price': '$228.00', 'Company': 'Amtrak Acela'}\n",
      "{'Dept': '4:14 PM', 'Arr': '6:58 PM', 'Duration': '2h 44m', 'Price': '$96.00', 'Company': 'Amtrak Northeast Regional'}\n",
      "{'Dept': '2:30 PM', 'Arr': '6:30 PM', 'Duration': '4h 0m', 'Price': '$30.00', 'Company': 'Wanda Coach'}\n",
      "{'Dept': '4:46 PM', 'Arr': '7:24 PM', 'Duration': '2h 38m', 'Price': '$96.00', 'Company': 'Amtrak Northeast Regional'}\n",
      "{'Dept': '2:07 PM', 'Arr': '4:50 PM', 'Duration': '2h 43m', 'Price': '$96.00', 'Company': 'Amtrak Northeast Regional'}\n",
      "{'Dept': '5:34 AM', 'Arr': '7:48 AM', 'Duration': '2h 14m', 'Price': '$228.00', 'Company': 'Amtrak Acela'}\n",
      "{'Dept': '8:27 AM', 'Arr': '11:14 AM', 'Duration': '2h 47m', 'Price': '$96.00', 'Company': 'Amtrak'}\n",
      "{'Dept': '10:15 AM', 'Arr': '3:05 PM', 'Duration': '4h 50m', 'Price': '$28.99', 'Company': 'Greyhound'}\n",
      "{'Dept': '2:58 PM', 'Arr': '6:01 PM', 'Duration': '3h 3m', 'Price': '$96.00', 'Company': 'Amtrak Crescent'}\n",
      "{'Dept': '3:48 PM', 'Arr': '6:30 PM', 'Duration': '2h 42m', 'Price': '$96.00', 'Company': 'Amtrak Northeast Regional'}\n",
      "{'Dept': '7:34 AM', 'Arr': '9:52 AM', 'Duration': '2h 18m', 'Price': '$287.00', 'Company': 'Amtrak Acela'}\n",
      "{'Dept': '10:19 AM', 'Arr': '12:56 PM', 'Duration': '2h 37m', 'Price': '$96.00', 'Company': 'Amtrak Northeast Regional'}\n",
      "{'Dept': '3:15 AM', 'Arr': '7:00 AM', 'Duration': '3h 45m', 'Price': '$35.00', 'Company': 'Wanda Coach'}\n",
      "{'Dept': '1:30 AM', 'Arr': '5:30 AM', 'Duration': '4h 0m', 'Price': '$35.00', 'Company': 'Wanda Coach'}\n",
      "{'Dept': '4:30 AM', 'Arr': '9:00 AM', 'Duration': '4h 30m', 'Price': '$30.00', 'Company': 'Wanda Coach'}\n",
      "{'Dept': '10:53 AM', 'Arr': '1:36 PM', 'Duration': '2h 43m', 'Price': '$96.00', 'Company': 'Amtrak'}\n",
      "{'Dept': '11:54 AM', 'Arr': '2:33 PM', 'Duration': '2h 39m', 'Price': '$96.00', 'Company': 'Amtrak Northeast Regional'}\n",
      "{'Dept': '2:30 PM', 'Arr': '4:48 PM', 'Duration': '2h 18m', 'Price': '$287.00', 'Company': 'Amtrak Acela'}\n",
      "{'Dept': '11:18 AM', 'Arr': '2:14 PM', 'Duration': '2h 56m', 'Price': '$96.00', 'Company': 'Amtrak Northeast Regional'}\n",
      "{'Dept': '6:30 AM', 'Arr': 'Towson, MD', 'Duration': '3h 15m', 'Price': '$55.00', 'Company': 'OurBus'}\n",
      "{'Dept': '7:14 AM', 'Arr': '10:02 AM', 'Duration': '2h 48m', 'Price': '$96.00', 'Company': 'Amtrak Northeast Regional'}\n",
      "{'Dept': '7:54 AM', 'Arr': '10:45 AM', 'Duration': '2h 51m', 'Price': '$96.00', 'Company': 'Amtrak Northeast Regional'}\n",
      "{'Dept': '1:30 PM', 'Arr': '3:46 PM', 'Duration': '2h 16m', 'Price': '$287.00', 'Company': 'Amtrak Acela'}\n",
      "{'Dept': '8:24 PM', 'Arr': '11:23 PM', 'Duration': '2h 59m', 'Price': '$69.00', 'Company': 'Amtrak Palmetto'}\n",
      "{'Dept': '7:00 AM', 'Arr': '12:00 PM', 'Duration': '5h 0m', 'Price': '$35.00', 'Company': 'Wanda Coach'}\n",
      "{'Dept': '9:43 PM', 'Arr': '12:45 AM', 'Duration': '3h 2m', 'Price': '$69.00', 'Company': 'Amtrak'}\n",
      "{'Dept': '8:35 AM', 'Arr': '11:21 AM', 'Duration': '2h 46m', 'Price': '$96.00', 'Company': 'Amtrak Vermonter'}\n",
      "{'Dept': '8:42 AM', 'Arr': '11:01 AM', 'Duration': '2h 19m', 'Price': '$287.00', 'Company': 'Amtrak Acela'}\n",
      "{'Dept': '12:32 PM', 'Arr': '3:20 PM', 'Duration': '2h 48m', 'Price': '$96.00', 'Company': 'Amtrak Northeast Regional'}\n",
      "{'Dept': '6:45 AM', 'Arr': '1:30 PM', 'Duration': '6h 45m', 'Price': '$35.98', 'Company': 'Greyhound'}\n",
      "{'Dept': '2:33 PM', 'Arr': '5:24 PM', 'Duration': '2h 51m', 'Price': '$96.00', 'Company': 'Amtrak Northeast Regional'}\n",
      "{'Dept': '4:29 PM', 'Arr': '7:24 PM', 'Duration': '2h 55m', 'Price': '$96.00', 'Company': 'Amtrak Northeast Regional'}\n",
      "{'Dept': '6:00 PM', 'Arr': '8:23 PM', 'Duration': '2h 23m', 'Price': '$287.00', 'Company': 'Amtrak Acela'}\n",
      "{'Dept': '9:20 AM', 'Arr': '12:12 PM', 'Duration': '2h 52m', 'Price': '$96.00', 'Company': 'Amtrak Northeast Regional'}\n",
      "{'Dept': '2:05 AM', 'Arr': '8:20 AM', 'Duration': '6h 15m', 'Price': '$35.98', 'Company': 'Greyhound'}\n",
      "{'Dept': '1:52 PM', 'Arr': '4:50 PM', 'Duration': '2h 58m', 'Price': '$96.00', 'Company': 'Amtrak Northeast Regional'}\n",
      "{'Dept': '10:03 AM', 'Arr': '12:56 PM', 'Duration': '2h 53m', 'Price': '$96.00', 'Company': 'Amtrak Northeast Regional'}\n",
      "{'Dept': '3:21 PM', 'Arr': '5:48 PM', 'Duration': '2h 27m', 'Price': '$180.00', 'Company': 'Amtrak Acela'}\n",
      "{'Dept': '3:32 PM', 'Arr': '6:30 PM', 'Duration': '2h 58m', 'Price': '$96.00', 'Company': 'Amtrak Northeast Regional'}\n",
      "{'Dept': '3:35 PM', 'Arr': '9:45 PM', 'Duration': '6h 10m', 'Price': '$36.48', 'Company': 'Greyhound'}\n",
      "{'Dept': '11:38 AM', 'Arr': '2:33 PM', 'Duration': '2h 55m', 'Price': '$96.00', 'Company': 'Amtrak Northeast Regional'}\n",
      "{'Dept': '6:51 PM', 'Arr': '9:26 PM', 'Duration': '2h 35m', 'Price': '$129.00', 'Company': 'Amtrak Northeast Regional'}\n",
      "{'Dept': '4:30 PM', 'Arr': '6:48 PM', 'Duration': '2h 18m', 'Price': '$356.00', 'Company': 'Amtrak Acela'}\n",
      "{'Dept': '5:48 PM', 'Arr': '8:31 PM', 'Duration': '2h 43m', 'Price': '$129.00', 'Company': 'Amtrak Northeast Regional'}\n"
     ]
    },
    {
     "ename": "NoSuchElementException",
     "evalue": "Message: no such element: Unable to locate element: {\"method\":\"css selector\",\"selector\":\".GrRm34rZfwjd\"}\n  (Session info: chrome=124.0.6367.119); For documentation on this error, please visit: https://www.selenium.dev/documentation/webdriver/troubleshooting/errors#no-such-element-exception\nStacktrace:\n0   chromedriver                        0x00000001012a28cc chromedriver + 4368588\n1   chromedriver                        0x000000010129ad60 chromedriver + 4336992\n2   chromedriver                        0x0000000100ebec04 chromedriver + 289796\n3   chromedriver                        0x0000000100f00e00 chromedriver + 560640\n4   chromedriver                        0x0000000100ef7368 chromedriver + 521064\n5   chromedriver                        0x0000000100f395ec chromedriver + 792044\n6   chromedriver                        0x0000000100ef5ab4 chromedriver + 514740\n7   chromedriver                        0x0000000100ef650c chromedriver + 517388\n8   chromedriver                        0x0000000101266de8 chromedriver + 4124136\n9   chromedriver                        0x000000010126bbd8 chromedriver + 4144088\n10  chromedriver                        0x000000010124c7b0 chromedriver + 4016048\n11  chromedriver                        0x000000010126c508 chromedriver + 4146440\n12  chromedriver                        0x000000010123e264 chromedriver + 3957348\n13  chromedriver                        0x000000010128be50 chromedriver + 4275792\n14  chromedriver                        0x000000010128bfcc chromedriver + 4276172\n15  chromedriver                        0x000000010129a9c0 chromedriver + 4336064\n16  libsystem_pthread.dylib             0x00000001b57e826c _pthread_start + 148\n17  libsystem_pthread.dylib             0x00000001b57e308c thread_start + 8\n",
     "output_type": "error",
     "traceback": [
      "\u001b[0;31m---------------------------------------------------------------------------\u001b[0m",
      "\u001b[0;31mNoSuchElementException\u001b[0m                    Traceback (most recent call last)",
      "\u001b[0;32m<ipython-input-35-9da4c52ae192>\u001b[0m in \u001b[0;36m<module>\u001b[0;34m\u001b[0m\n\u001b[1;32m     15\u001b[0m     \u001b[0mduration\u001b[0m \u001b[0;34m=\u001b[0m \u001b[0mlines\u001b[0m\u001b[0;34m[\u001b[0m\u001b[0;36m2\u001b[0m\u001b[0;34m]\u001b[0m\u001b[0;34m\u001b[0m\u001b[0;34m\u001b[0m\u001b[0m\n\u001b[1;32m     16\u001b[0m     \u001b[0mprice\u001b[0m \u001b[0;34m=\u001b[0m \u001b[0mlines\u001b[0m\u001b[0;34m[\u001b[0m\u001b[0;36m0\u001b[0m\u001b[0;34m]\u001b[0m\u001b[0;34m\u001b[0m\u001b[0;34m\u001b[0m\u001b[0m\n\u001b[0;32m---> 17\u001b[0;31m     \u001b[0mcompany\u001b[0m \u001b[0;34m=\u001b[0m \u001b[0mele\u001b[0m\u001b[0;34m.\u001b[0m\u001b[0mfind_element\u001b[0m\u001b[0;34m(\u001b[0m\u001b[0mBy\u001b[0m\u001b[0;34m.\u001b[0m\u001b[0mCLASS_NAME\u001b[0m\u001b[0;34m,\u001b[0m \u001b[0;34m\"GrRm34rZfwjd\"\u001b[0m\u001b[0;34m)\u001b[0m\u001b[0;34m.\u001b[0m\u001b[0mget_attribute\u001b[0m\u001b[0;34m(\u001b[0m\u001b[0;34m'alt'\u001b[0m\u001b[0;34m)\u001b[0m\u001b[0;34m\u001b[0m\u001b[0;34m\u001b[0m\u001b[0m\n\u001b[0m\u001b[1;32m     18\u001b[0m     \u001b[0mlisting_info\u001b[0m\u001b[0;34m[\u001b[0m\u001b[0;34m'Dept'\u001b[0m\u001b[0;34m]\u001b[0m \u001b[0;34m=\u001b[0m \u001b[0mdept\u001b[0m\u001b[0;34m\u001b[0m\u001b[0;34m\u001b[0m\u001b[0m\n\u001b[1;32m     19\u001b[0m     \u001b[0mlisting_info\u001b[0m\u001b[0;34m[\u001b[0m\u001b[0;34m'Arr'\u001b[0m\u001b[0;34m]\u001b[0m \u001b[0;34m=\u001b[0m \u001b[0marr\u001b[0m\u001b[0;34m\u001b[0m\u001b[0;34m\u001b[0m\u001b[0m\n",
      "\u001b[0;32m~/opt/anaconda3/lib/python3.8/site-packages/selenium/webdriver/remote/webelement.py\u001b[0m in \u001b[0;36mfind_element\u001b[0;34m(self, by, value)\u001b[0m\n\u001b[1;32m    415\u001b[0m             \u001b[0mvalue\u001b[0m \u001b[0;34m=\u001b[0m \u001b[0;34mf'[name=\"{value}\"]'\u001b[0m\u001b[0;34m\u001b[0m\u001b[0;34m\u001b[0m\u001b[0m\n\u001b[1;32m    416\u001b[0m \u001b[0;34m\u001b[0m\u001b[0m\n\u001b[0;32m--> 417\u001b[0;31m         \u001b[0;32mreturn\u001b[0m \u001b[0mself\u001b[0m\u001b[0;34m.\u001b[0m\u001b[0m_execute\u001b[0m\u001b[0;34m(\u001b[0m\u001b[0mCommand\u001b[0m\u001b[0;34m.\u001b[0m\u001b[0mFIND_CHILD_ELEMENT\u001b[0m\u001b[0;34m,\u001b[0m \u001b[0;34m{\u001b[0m\u001b[0;34m\"using\"\u001b[0m\u001b[0;34m:\u001b[0m \u001b[0mby\u001b[0m\u001b[0;34m,\u001b[0m \u001b[0;34m\"value\"\u001b[0m\u001b[0;34m:\u001b[0m \u001b[0mvalue\u001b[0m\u001b[0;34m}\u001b[0m\u001b[0;34m)\u001b[0m\u001b[0;34m[\u001b[0m\u001b[0;34m\"value\"\u001b[0m\u001b[0;34m]\u001b[0m\u001b[0;34m\u001b[0m\u001b[0;34m\u001b[0m\u001b[0m\n\u001b[0m\u001b[1;32m    418\u001b[0m \u001b[0;34m\u001b[0m\u001b[0m\n\u001b[1;32m    419\u001b[0m     \u001b[0;32mdef\u001b[0m \u001b[0mfind_elements\u001b[0m\u001b[0;34m(\u001b[0m\u001b[0mself\u001b[0m\u001b[0;34m,\u001b[0m \u001b[0mby\u001b[0m\u001b[0;34m=\u001b[0m\u001b[0mBy\u001b[0m\u001b[0;34m.\u001b[0m\u001b[0mID\u001b[0m\u001b[0;34m,\u001b[0m \u001b[0mvalue\u001b[0m\u001b[0;34m=\u001b[0m\u001b[0;32mNone\u001b[0m\u001b[0;34m)\u001b[0m \u001b[0;34m->\u001b[0m \u001b[0mList\u001b[0m\u001b[0;34m[\u001b[0m\u001b[0mWebElement\u001b[0m\u001b[0;34m]\u001b[0m\u001b[0;34m:\u001b[0m\u001b[0;34m\u001b[0m\u001b[0;34m\u001b[0m\u001b[0m\n",
      "\u001b[0;32m~/opt/anaconda3/lib/python3.8/site-packages/selenium/webdriver/remote/webelement.py\u001b[0m in \u001b[0;36m_execute\u001b[0;34m(self, command, params)\u001b[0m\n\u001b[1;32m    393\u001b[0m             \u001b[0mparams\u001b[0m \u001b[0;34m=\u001b[0m \u001b[0;34m{\u001b[0m\u001b[0;34m}\u001b[0m\u001b[0;34m\u001b[0m\u001b[0;34m\u001b[0m\u001b[0m\n\u001b[1;32m    394\u001b[0m         \u001b[0mparams\u001b[0m\u001b[0;34m[\u001b[0m\u001b[0;34m\"id\"\u001b[0m\u001b[0;34m]\u001b[0m \u001b[0;34m=\u001b[0m \u001b[0mself\u001b[0m\u001b[0;34m.\u001b[0m\u001b[0m_id\u001b[0m\u001b[0;34m\u001b[0m\u001b[0;34m\u001b[0m\u001b[0m\n\u001b[0;32m--> 395\u001b[0;31m         \u001b[0;32mreturn\u001b[0m \u001b[0mself\u001b[0m\u001b[0;34m.\u001b[0m\u001b[0m_parent\u001b[0m\u001b[0;34m.\u001b[0m\u001b[0mexecute\u001b[0m\u001b[0;34m(\u001b[0m\u001b[0mcommand\u001b[0m\u001b[0;34m,\u001b[0m \u001b[0mparams\u001b[0m\u001b[0;34m)\u001b[0m\u001b[0;34m\u001b[0m\u001b[0;34m\u001b[0m\u001b[0m\n\u001b[0m\u001b[1;32m    396\u001b[0m \u001b[0;34m\u001b[0m\u001b[0m\n\u001b[1;32m    397\u001b[0m     \u001b[0;32mdef\u001b[0m \u001b[0mfind_element\u001b[0m\u001b[0;34m(\u001b[0m\u001b[0mself\u001b[0m\u001b[0;34m,\u001b[0m \u001b[0mby\u001b[0m\u001b[0;34m=\u001b[0m\u001b[0mBy\u001b[0m\u001b[0;34m.\u001b[0m\u001b[0mID\u001b[0m\u001b[0;34m,\u001b[0m \u001b[0mvalue\u001b[0m\u001b[0;34m=\u001b[0m\u001b[0;32mNone\u001b[0m\u001b[0;34m)\u001b[0m \u001b[0;34m->\u001b[0m \u001b[0mWebElement\u001b[0m\u001b[0;34m:\u001b[0m\u001b[0;34m\u001b[0m\u001b[0;34m\u001b[0m\u001b[0m\n",
      "\u001b[0;32m~/opt/anaconda3/lib/python3.8/site-packages/selenium/webdriver/remote/webdriver.py\u001b[0m in \u001b[0;36mexecute\u001b[0;34m(self, driver_command, params)\u001b[0m\n\u001b[1;32m    345\u001b[0m         \u001b[0mresponse\u001b[0m \u001b[0;34m=\u001b[0m \u001b[0mself\u001b[0m\u001b[0;34m.\u001b[0m\u001b[0mcommand_executor\u001b[0m\u001b[0;34m.\u001b[0m\u001b[0mexecute\u001b[0m\u001b[0;34m(\u001b[0m\u001b[0mdriver_command\u001b[0m\u001b[0;34m,\u001b[0m \u001b[0mparams\u001b[0m\u001b[0;34m)\u001b[0m\u001b[0;34m\u001b[0m\u001b[0;34m\u001b[0m\u001b[0m\n\u001b[1;32m    346\u001b[0m         \u001b[0;32mif\u001b[0m \u001b[0mresponse\u001b[0m\u001b[0;34m:\u001b[0m\u001b[0;34m\u001b[0m\u001b[0;34m\u001b[0m\u001b[0m\n\u001b[0;32m--> 347\u001b[0;31m             \u001b[0mself\u001b[0m\u001b[0;34m.\u001b[0m\u001b[0merror_handler\u001b[0m\u001b[0;34m.\u001b[0m\u001b[0mcheck_response\u001b[0m\u001b[0;34m(\u001b[0m\u001b[0mresponse\u001b[0m\u001b[0;34m)\u001b[0m\u001b[0;34m\u001b[0m\u001b[0;34m\u001b[0m\u001b[0m\n\u001b[0m\u001b[1;32m    348\u001b[0m             \u001b[0mresponse\u001b[0m\u001b[0;34m[\u001b[0m\u001b[0;34m\"value\"\u001b[0m\u001b[0;34m]\u001b[0m \u001b[0;34m=\u001b[0m \u001b[0mself\u001b[0m\u001b[0;34m.\u001b[0m\u001b[0m_unwrap_value\u001b[0m\u001b[0;34m(\u001b[0m\u001b[0mresponse\u001b[0m\u001b[0;34m.\u001b[0m\u001b[0mget\u001b[0m\u001b[0;34m(\u001b[0m\u001b[0;34m\"value\"\u001b[0m\u001b[0;34m,\u001b[0m \u001b[0;32mNone\u001b[0m\u001b[0;34m)\u001b[0m\u001b[0;34m)\u001b[0m\u001b[0;34m\u001b[0m\u001b[0;34m\u001b[0m\u001b[0m\n\u001b[1;32m    349\u001b[0m             \u001b[0;32mreturn\u001b[0m \u001b[0mresponse\u001b[0m\u001b[0;34m\u001b[0m\u001b[0;34m\u001b[0m\u001b[0m\n",
      "\u001b[0;32m~/opt/anaconda3/lib/python3.8/site-packages/selenium/webdriver/remote/errorhandler.py\u001b[0m in \u001b[0;36mcheck_response\u001b[0;34m(self, response)\u001b[0m\n\u001b[1;32m    227\u001b[0m                 \u001b[0malert_text\u001b[0m \u001b[0;34m=\u001b[0m \u001b[0mvalue\u001b[0m\u001b[0;34m[\u001b[0m\u001b[0;34m\"alert\"\u001b[0m\u001b[0;34m]\u001b[0m\u001b[0;34m.\u001b[0m\u001b[0mget\u001b[0m\u001b[0;34m(\u001b[0m\u001b[0;34m\"text\"\u001b[0m\u001b[0;34m)\u001b[0m\u001b[0;34m\u001b[0m\u001b[0;34m\u001b[0m\u001b[0m\n\u001b[1;32m    228\u001b[0m             \u001b[0;32mraise\u001b[0m \u001b[0mexception_class\u001b[0m\u001b[0;34m(\u001b[0m\u001b[0mmessage\u001b[0m\u001b[0;34m,\u001b[0m \u001b[0mscreen\u001b[0m\u001b[0;34m,\u001b[0m \u001b[0mstacktrace\u001b[0m\u001b[0;34m,\u001b[0m \u001b[0malert_text\u001b[0m\u001b[0;34m)\u001b[0m  \u001b[0;31m# type: ignore[call-arg]  # mypy is not smart enough here\u001b[0m\u001b[0;34m\u001b[0m\u001b[0;34m\u001b[0m\u001b[0m\n\u001b[0;32m--> 229\u001b[0;31m         \u001b[0;32mraise\u001b[0m \u001b[0mexception_class\u001b[0m\u001b[0;34m(\u001b[0m\u001b[0mmessage\u001b[0m\u001b[0;34m,\u001b[0m \u001b[0mscreen\u001b[0m\u001b[0;34m,\u001b[0m \u001b[0mstacktrace\u001b[0m\u001b[0;34m)\u001b[0m\u001b[0;34m\u001b[0m\u001b[0;34m\u001b[0m\u001b[0m\n\u001b[0m",
      "\u001b[0;31mNoSuchElementException\u001b[0m: Message: no such element: Unable to locate element: {\"method\":\"css selector\",\"selector\":\".GrRm34rZfwjd\"}\n  (Session info: chrome=124.0.6367.119); For documentation on this error, please visit: https://www.selenium.dev/documentation/webdriver/troubleshooting/errors#no-such-element-exception\nStacktrace:\n0   chromedriver                        0x00000001012a28cc chromedriver + 4368588\n1   chromedriver                        0x000000010129ad60 chromedriver + 4336992\n2   chromedriver                        0x0000000100ebec04 chromedriver + 289796\n3   chromedriver                        0x0000000100f00e00 chromedriver + 560640\n4   chromedriver                        0x0000000100ef7368 chromedriver + 521064\n5   chromedriver                        0x0000000100f395ec chromedriver + 792044\n6   chromedriver                        0x0000000100ef5ab4 chromedriver + 514740\n7   chromedriver                        0x0000000100ef650c chromedriver + 517388\n8   chromedriver                        0x0000000101266de8 chromedriver + 4124136\n9   chromedriver                        0x000000010126bbd8 chromedriver + 4144088\n10  chromedriver                        0x000000010124c7b0 chromedriver + 4016048\n11  chromedriver                        0x000000010126c508 chromedriver + 4146440\n12  chromedriver                        0x000000010123e264 chromedriver + 3957348\n13  chromedriver                        0x000000010128be50 chromedriver + 4275792\n14  chromedriver                        0x000000010128bfcc chromedriver + 4276172\n15  chromedriver                        0x000000010129a9c0 chromedriver + 4336064\n16  libsystem_pthread.dylib             0x00000001b57e826c _pthread_start + 148\n17  libsystem_pthread.dylib             0x00000001b57e308c thread_start + 8\n"
     ]
    }
   ],
   "source": [
    "# #Get Listings\n",
    "listings = driver.find_elements(By.CLASS_NAME, \"gPwYYvClbIG4\")\n",
    "print(len(listings))\n",
    "\n",
    "results = []\n",
    "\n",
    "for ele in listings: \n",
    "    \n",
    "    listing_info = {}\n",
    "\n",
    "    data = ele.text\n",
    "    lines = data.strip().split('\\n')\n",
    "    dept = lines[1]\n",
    "    arr = lines[4]\n",
    "    duration = lines[2]\n",
    "    price = lines[0]\n",
    "    company = ele.find_element(By.CLASS_NAME, \"GrRm34rZfwjd\").get_attribute('alt')\n",
    "    listing_info['Dept'] = dept\n",
    "    listing_info['Arr'] = arr\n",
    "    listing_info['Duration'] = duration\n",
    "    listing_info['Price'] = price\n",
    "    listing_info['Company'] = company\n",
    "    \n",
    "    results.append(listing_info)\n",
    "    print(listing_info)\n",
    "#     # print(ele)\n",
    " \n",
    "\n",
    "print(\"done - wanderu\")\n",
    "# print(str(results[i])+\"\\n\" for i in range(len(results)))\n",
    "\n",
    "# Close the browser\n",
    "# input()\n",
    "# driver.quit()\n",
    "# print(results)"
   ]
  },
  {
   "cell_type": "code",
   "execution_count": null,
   "id": "bcdecc00-1912-4e7a-a9cb-f672e5b8866b",
   "metadata": {},
   "outputs": [],
   "source": []
  },
  {
   "cell_type": "code",
   "execution_count": null,
   "id": "cc5c9875-677d-4bca-862f-c4ec50691ade",
   "metadata": {},
   "outputs": [],
   "source": []
  }
 ],
 "metadata": {
  "kernelspec": {
   "display_name": "Python 3",
   "language": "python",
   "name": "python3"
  },
  "language_info": {
   "codemirror_mode": {
    "name": "ipython",
    "version": 3
   },
   "file_extension": ".py",
   "mimetype": "text/x-python",
   "name": "python",
   "nbconvert_exporter": "python",
   "pygments_lexer": "ipython3",
   "version": "3.8.8"
  }
 },
 "nbformat": 4,
 "nbformat_minor": 5
}
