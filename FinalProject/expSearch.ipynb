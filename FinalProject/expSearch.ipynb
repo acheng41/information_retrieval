{
 "cells": [
  {
   "cell_type": "code",
   "execution_count": 1,
   "id": "50d41cd2",
   "metadata": {},
   "outputs": [],
   "source": [
    "from datetime import datetime\n",
    "import time\n",
    "from selenium import webdriver\n",
    "from selenium.webdriver.common.by import By\n",
    "from selenium.webdriver.support.ui import WebDriverWait\n",
    "from selenium.webdriver.support import expected_conditions as EC\n",
    "from selenium.webdriver.common.keys import Keys\n",
    "from selenium.common.exceptions import TimeoutException\n",
    "\n"
   ]
  },
  {
   "cell_type": "code",
   "execution_count": 4,
   "id": "9b2bb867",
   "metadata": {},
   "outputs": [],
   "source": [
    "origin = \"BWI\"\n",
    "destination = \"NYC\"\n",
    "date =\"07/16/2024\""
   ]
  },
  {
   "cell_type": "code",
   "execution_count": 3,
   "id": "8cd4aae3",
   "metadata": {},
   "outputs": [
    {
     "name": "stdout",
     "output_type": "stream",
     "text": [
      "16\n",
      "JFK\n"
     ]
    }
   ],
   "source": [
    "\n",
    "input_day = datetime.strptime(date, \"%m/%d/%Y\").day\n",
    "day = str(input_day)\n",
    "\n",
    "\n",
    "print(day)\n",
    "\n",
    "if destination == \"NYC\":\n",
    "    destination = \"JFK\"\n",
    "\n",
    "print(destination)\n",
    "# Set up the WebDriver\n",
    "driver = webdriver.Chrome()\n",
    "# Navigate to the Expedia flights page\n",
    "driver.get(\"https://www.expedia.com/Flights\")\n",
    "\n",
    "# Click on the One-way link\n",
    "one_way_link = WebDriverWait(driver, 10).until(\n",
    "        EC.element_to_be_clickable((By.XPATH, '//a[contains(@class, \"uitk-tab-anchor\") and contains(.,\"One-way\")]'))\n",
    "    )\n",
    "one_way_link.click()\n",
    "\n",
    "# Click on the \"Leaving from\" button\n",
    "origin_button = WebDriverWait(driver, 10).until(\n",
    "    EC.element_to_be_clickable((By.XPATH, '//button[@aria-label=\"Leaving from\"]'))\n",
    ")\n",
    "origin_button.click()\n",
    "\n",
    "# Enter origin\n",
    "origin_input = WebDriverWait(driver, 10).until(\n",
    "    EC.visibility_of_element_located((By.XPATH, '//input[@placeholder=\"Leaving from\"]'))\n",
    ")\n",
    "origin_input.send_keys(origin)\n",
    "origin_input.send_keys(Keys.RETURN)\n",
    "\n",
    "# Click on the \"Going to\" button\n",
    "destination_button = WebDriverWait(driver, 10).until(\n",
    "    EC.element_to_be_clickable((By.XPATH, '//button[@aria-label=\"Going to\"]'))\n",
    ")\n",
    "destination_button.click()\n",
    "\n",
    "# Enter destination\n",
    "destination_input = WebDriverWait(driver, 10).until(\n",
    "    EC.visibility_of_element_located((By.XPATH, '//input[@placeholder=\"Going to\"]'))\n",
    ")\n",
    "destination_input.send_keys(destination)\n",
    "destination_input.send_keys(Keys.RETURN)\n"
   ]
  },
  {
   "cell_type": "code",
   "execution_count": 5,
   "id": "d2894f57",
   "metadata": {},
   "outputs": [
    {
     "data": {
      "text/plain": [
       "<selenium.webdriver.remote.webelement.WebElement (session=\"371d0e78299ad56b34a719d509aa8404\", element=\"f.95302EE6EB24E173974152065DE29CDE.d.4A9CE3EBDF7361826231ACC11B73F061.e.94\")>"
      ]
     },
     "execution_count": 5,
     "metadata": {},
     "output_type": "execute_result"
    }
   ],
   "source": [
    "\n",
    "# Click on the Date Picker button to open the Date Picker\n",
    "date_picker_button = WebDriverWait(driver, 10).until(EC.element_to_be_clickable((By.ID, \"date_form_field-btn\")))\n",
    "date_picker_button.click()\n",
    "\n",
    "# Wait for the calendar to load\n",
    "WebDriverWait(driver, 10).until(EC.visibility_of_element_located((By.CLASS_NAME, 'uitk-calendar')))\n"
   ]
  },
  {
   "cell_type": "code",
   "execution_count": 6,
   "id": "36a1db32",
   "metadata": {},
   "outputs": [
    {
     "name": "stdout",
     "output_type": "stream",
     "text": [
      "July 2024\n"
     ]
    }
   ],
   "source": [
    "date_object = datetime.strptime(date, \"%m/%d/%Y\")\n",
    "\n",
    "# Format the datetime object as \"Month Year\"\n",
    "formatted_date = date_object.strftime(\"%B %Y\")\n",
    "print(formatted_date)"
   ]
  },
  {
   "cell_type": "code",
   "execution_count": 8,
   "id": "f0f6faa8",
   "metadata": {},
   "outputs": [
    {
     "name": "stdout",
     "output_type": "stream",
     "text": [
      "2\n",
      "May 2024\n",
      "June 2024\n",
      "June 2024\n",
      "July 2024\n",
      "July 2024\n",
      "August 2024\n"
     ]
    }
   ],
   "source": [
    "h2_element = driver.find_elements(By.CLASS_NAME,\"uitk-date-picker-month-name\")\n",
    "print(len(h2_element))\n",
    "print(h2_element[0].text)\n",
    "print(h2_element[1].text)\n",
    "\n",
    "\n",
    "\n",
    "while h2_element[0].text != formatted_date:\n",
    "    next_button = driver.find_elements(By.XPATH, \"//button[@data-stid='date-picker-paging']\")[1]\n",
    "    next_button.click()\n",
    "    h2_element = driver.find_elements(By.CLASS_NAME,\"uitk-date-picker-month-name\")\n",
    "    print(h2_element[0].text)\n",
    "    print(h2_element[1].text)\n",
    "\n"
   ]
  },
  {
   "cell_type": "code",
   "execution_count": 9,
   "id": "b42dd5f2",
   "metadata": {},
   "outputs": [],
   "source": [
    "\n",
    "day_path = '//button[@data-day=\"' + day + '\"]'\n",
    "# Click on the specific day\n",
    "day_button = WebDriverWait(driver, 10).until(\n",
    "    EC.element_to_be_clickable((By.XPATH, day_path))\n",
    ")\n",
    "day_button.click()\n"
   ]
  },
  {
   "cell_type": "code",
   "execution_count": 10,
   "id": "39af7d17",
   "metadata": {},
   "outputs": [
    {
     "data": {
      "text/plain": [
       "<selenium.webdriver.remote.webelement.WebElement (session=\"371d0e78299ad56b34a719d509aa8404\", element=\"f.95302EE6EB24E173974152065DE29CDE.d.617B3CAA697300C95796192EB47711B0.e.246\")>"
      ]
     },
     "execution_count": 10,
     "metadata": {},
     "output_type": "execute_result"
    }
   ],
   "source": [
    "\n",
    "# Click on the \"Done\" button\n",
    "done_button = WebDriverWait(driver, 10).until(\n",
    "    EC.element_to_be_clickable((By.XPATH, '//button[@data-stid=\"apply-date-picker\"]'))\n",
    ")\n",
    "done_button.click()\n",
    "\n",
    "# Click on the search button\n",
    "search_button = WebDriverWait(driver, 10).until(\n",
    "    EC.element_to_be_clickable((By.XPATH, '//button[@id=\"search_button\"]'))\n",
    ")\n",
    "search_button.click()\n",
    "time.sleep(10)\n",
    "\n",
    "# Wait for the flight listings to load\n",
    "WebDriverWait(driver, 60).until(\n",
    "    EC.visibility_of_element_located((By.XPATH, '//li[@data-test-id=\"offer-listing\"]'))\n",
    ")\n"
   ]
  },
  {
   "cell_type": "code",
   "execution_count": 11,
   "id": "03018028",
   "metadata": {},
   "outputs": [
    {
     "name": "stdout",
     "output_type": "stream",
     "text": [
      "Button no longer available or clickable. Stopping.\n"
     ]
    }
   ],
   "source": [
    "while True:\n",
    "    try:\n",
    "        # Wait for the button to be clickable\n",
    "        button = WebDriverWait(driver, 10).until(\n",
    "            EC.element_to_be_clickable((By.XPATH, \"//button[@name='showMoreButton']\"))\n",
    "        )\n",
    "        \n",
    "        # Click the button\n",
    "        button.click()\n",
    "        print(\"Button clicked successfully!\")\n",
    "        \n",
    "        # Sleep for a short while to allow the page to load after clicking\n",
    "        time.sleep(2)  # Adjust the sleep time as needed\n",
    "        \n",
    "    except TimeoutException:\n",
    "        # If the button is not found or not clickable, break out of the loop\n",
    "        print(\"Button no longer available or clickable. Stopping.\")\n",
    "        break\n"
   ]
  },
  {
   "cell_type": "code",
   "execution_count": 12,
   "id": "c13e1780",
   "metadata": {},
   "outputs": [
    {
     "name": "stdout",
     "output_type": "stream",
     "text": [
      "22\n",
      "22\n",
      "done - expedia.com\n"
     ]
    }
   ],
   "source": [
    "all_listing_info = []\n",
    "\n",
    "while True:\n",
    "    # Find all flight listings\n",
    "    listings = driver.find_elements(By.XPATH, '//li[@data-test-id=\"offer-listing\"]')\n",
    "    # Iterate through each listing\n",
    "    for listing in listings:\n",
    "        # Dictionary to store information for the current listing\n",
    "        listing_info = {}\n",
    "\n",
    "        # Find elements within the current listing\n",
    "        duration = listing.find_element(By.CSS_SELECTOR, '[data-test-id=\"journey-duration\"]').text\n",
    "        price = listing.find_element(By.CSS_SELECTOR, '.uitk-lockup-price').text\n",
    "        airline_info = listing.find_element(By.CSS_SELECTOR, '[data-test-id=\"flight-operated\"]').text.split(' • ')[0]\n",
    "        dept, arr = listing.find_element(By.CSS_SELECTOR, '[data-test-id=\"departure-time\"]').text.split(' - ')    \n",
    "\n",
    "        # link_button = listing.find_element(By.XPATH, './/button[@data-test-id=\"select-link\"]')\n",
    "        # link = link_button.get_attribute(\"onclick\").split(\"window.open('\")[1].split(\"')\")[0]     \n",
    "\n",
    "        # Store information in the dictionary\n",
    "        # listing_info['Link'] = link\n",
    "        listing_info['Mode'] = \"Plane\"\n",
    "        listing_info['Dept'] = dept\n",
    "        listing_info['Arr'] = arr\n",
    "        listing_info['Duration'] = duration.split('(')[0].strip()\n",
    "        listing_info['Price'] = price\n",
    "        listing_info['Company'] = airline_info\n",
    "\n",
    "        # Add the dictionary to the list\n",
    "        all_listing_info.append(listing_info)\n",
    "\n",
    "    # Scroll to load more listings\n",
    "    driver.execute_script(\"window.scrollTo(0, document.body.scrollHeight);\")\n",
    "    time.sleep(10)\n",
    "    # Wait for some time to let new listings load\n",
    "    WebDriverWait(driver, 10).until(\n",
    "        EC.visibility_of_element_located((By.XPATH, '//li[@data-test-id=\"offer-listing\"]'))\n",
    "    )\n",
    "    more_listings = driver.find_elements(By.XPATH, '//li[@data-test-id=\"offer-listing\"]')\n",
    "    print(len(more_listings))\n",
    "    print(len(listings))\n",
    "    if len(more_listings) == len(listings):\n",
    "        break\n",
    "\n",
    "#Print all flight listings\n",
    "# for listing_info in all_listing_info:\n",
    "#     print(listing_info)\n",
    "#     print(\"\\n\")\n",
    "\n",
    "print(\"done - expedia.com\")\n",
    "\n",
    "# Close the browser\n",
    "time.sleep(30)\n",
    "driver.quit()\n"
   ]
  },
  {
   "cell_type": "code",
   "execution_count": 13,
   "id": "7cc6862f",
   "metadata": {},
   "outputs": [
    {
     "name": "stdout",
     "output_type": "stream",
     "text": [
      "[{'Mode': 'Plane', 'Dept': '5:00pm', 'Arr': '6:39pm', 'Duration': '1h 39m', 'Price': '$134', 'Company': 'Delta'}, {'Mode': 'Plane', 'Dept': '6:05am', 'Arr': '7:23am', 'Duration': '1h 18m', 'Price': '$134', 'Company': 'Delta'}, {'Mode': 'Plane', 'Dept': '11:34am', 'Arr': '9:59pm', 'Duration': '10h 25m', 'Price': '$277', 'Company': 'American Airlines'}, {'Mode': 'Plane', 'Dept': '10:25am', 'Arr': '7:00pm', 'Duration': '8h 35m', 'Price': '$297', 'Company': 'American Airlines'}, {'Mode': 'Plane', 'Dept': '1:33pm', 'Arr': '9:55pm', 'Duration': '8h 22m', 'Price': '$297', 'Company': 'American Airlines'}, {'Mode': 'Plane', 'Dept': '10:25am', 'Arr': '9:55pm', 'Duration': '11h 30m', 'Price': '$297', 'Company': 'American Airlines'}, {'Mode': 'Plane', 'Dept': '6:18am', 'Arr': '3:30pm', 'Duration': '9h 12m', 'Price': '$297', 'Company': 'American Airlines'}, {'Mode': 'Plane', 'Dept': '5:00am', 'Arr': '3:30pm', 'Duration': '10h 30m', 'Price': '$297', 'Company': 'American Airlines'}, {'Mode': 'Plane', 'Dept': '7:07am', 'Arr': '9:29pm', 'Duration': '14h 22m', 'Price': '$357', 'Company': 'American Airlines'}, {'Mode': 'Plane', 'Dept': '6:00am', 'Arr': '2:45pm', 'Duration': '8h 45m', 'Price': '$363', 'Company': 'American Airlines'}, {'Mode': 'Plane', 'Dept': '6:59pm', 'Arr': '7:59am', 'Duration': '13h 0m', 'Price': '$406', 'Company': 'Alaska Airlines'}, {'Mode': 'Plane', 'Dept': '10:25am', 'Arr': '8:59pm', 'Duration': '10h 34m', 'Price': '$277', 'Company': 'American Airlines'}, {'Mode': 'Plane', 'Dept': '10:25am', 'Arr': '3:30pm', 'Duration': '5h 5m', 'Price': '$533', 'Company': 'American Airlines'}, {'Mode': 'Plane', 'Dept': '1:33pm', 'Arr': '7:00pm', 'Duration': '5h 27m', 'Price': '$533', 'Company': 'American Airlines'}, {'Mode': 'Plane', 'Dept': '8:15pm', 'Arr': '7:20am', 'Duration': '11h 5m', 'Price': '$277', 'Company': 'American Airlines'}, {'Mode': 'Plane', 'Dept': '3:49pm', 'Arr': '9:55pm', 'Duration': '6h 6m', 'Price': '$533', 'Company': 'American Airlines'}, {'Mode': 'Plane', 'Dept': '1:35pm', 'Arr': '9:29pm', 'Duration': '7h 54m', 'Price': '$530', 'Company': 'American Airlines'}, {'Mode': 'Plane', 'Dept': '6:02pm', 'Arr': '7:20am', 'Duration': '13h 18m', 'Price': '$302', 'Company': 'American Airlines'}, {'Mode': 'Plane', 'Dept': '6:02pm', 'Arr': '7:20am', 'Duration': '13h 18m', 'Price': '$302', 'Company': 'American Airlines'}, {'Mode': 'Plane', 'Dept': '5:00am', 'Arr': '10:00am', 'Duration': '5h 0m', 'Price': '$533', 'Company': 'American Airlines'}, {'Mode': 'Plane', 'Dept': '6:18am', 'Arr': '1:29pm', 'Duration': '7h 11m', 'Price': '$533', 'Company': 'American Airlines'}, {'Mode': 'Plane', 'Dept': '7:08am', 'Arr': '10:15pm', 'Duration': '15h 7m', 'Price': '$661', 'Company': 'Alaska Airlines'}]\n"
     ]
    }
   ],
   "source": [
    "print(all_listing_info)"
   ]
  },
  {
   "cell_type": "code",
   "execution_count": null,
   "id": "8c654f3e",
   "metadata": {},
   "outputs": [],
   "source": []
  }
 ],
 "metadata": {
  "kernelspec": {
   "display_name": "Python 3",
   "language": "python",
   "name": "python3"
  },
  "language_info": {
   "codemirror_mode": {
    "name": "ipython",
    "version": 3
   },
   "file_extension": ".py",
   "mimetype": "text/x-python",
   "name": "python",
   "nbconvert_exporter": "python",
   "pygments_lexer": "ipython3",
   "version": "3.8.8"
  }
 },
 "nbformat": 4,
 "nbformat_minor": 5
}
