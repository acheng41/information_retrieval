{
 "cells": [
  {
   "cell_type": "code",
   "execution_count": 24,
   "id": "5775df92-e285-42e4-ba40-1adc0e8dd2d8",
   "metadata": {},
   "outputs": [],
   "source": [
    "import time\n",
    "from selenium import webdriver\n",
    "from selenium.webdriver.common.by import By\n",
    "from selenium.webdriver.support.ui import WebDriverWait\n",
    "from selenium.webdriver.support import expected_conditions as EC\n",
    "from selenium.webdriver.common.keys import Keys\n",
    "from datetime import datetime\n"
   ]
  },
  {
   "cell_type": "code",
   "execution_count": 27,
   "id": "a032c2d5-244c-4993-89b4-dfd8b7ab6daa",
   "metadata": {},
   "outputs": [],
   "source": [
    "origin = \"BWI\"\n",
    "destination = \"JFK\"\n",
    "day = \"14\"\n"
   ]
  },
  {
   "cell_type": "code",
   "execution_count": 26,
   "id": "e24987bf-4cf2-4cf8-a839-d7ba31cb54e1",
   "metadata": {},
   "outputs": [
    {
     "ename": "ValueError",
     "evalue": "time data '14' does not match format '%m/%d/%Y'",
     "output_type": "error",
     "traceback": [
      "\u001b[0;31m---------------------------------------------------------------------------\u001b[0m",
      "\u001b[0;31mValueError\u001b[0m                                Traceback (most recent call last)",
      "Cell \u001b[0;32mIn[26], line 1\u001b[0m\n\u001b[0;32m----> 1\u001b[0m input_date \u001b[38;5;241m=\u001b[39m \u001b[43mdatetime\u001b[49m\u001b[38;5;241;43m.\u001b[39;49m\u001b[43mstrptime\u001b[49m\u001b[43m(\u001b[49m\u001b[43mday\u001b[49m\u001b[43m,\u001b[49m\u001b[43m \u001b[49m\u001b[38;5;124;43m\"\u001b[39;49m\u001b[38;5;124;43m%\u001b[39;49m\u001b[38;5;124;43mm/\u001b[39;49m\u001b[38;5;132;43;01m%d\u001b[39;49;00m\u001b[38;5;124;43m/\u001b[39;49m\u001b[38;5;124;43m%\u001b[39;49m\u001b[38;5;124;43mY\u001b[39;49m\u001b[38;5;124;43m\"\u001b[39;49m\u001b[43m)\u001b[49m\n\u001b[1;32m      3\u001b[0m \u001b[38;5;66;03m# Format the date string to the desired output format\u001b[39;00m\n\u001b[1;32m      4\u001b[0m date_string \u001b[38;5;241m=\u001b[39m input_date\u001b[38;5;241m.\u001b[39mstrftime(\u001b[38;5;124m\"\u001b[39m\u001b[38;5;124m%\u001b[39m\u001b[38;5;124mB \u001b[39m\u001b[38;5;132;01m%d\u001b[39;00m\u001b[38;5;124m, \u001b[39m\u001b[38;5;124m%\u001b[39m\u001b[38;5;124mY\u001b[39m\u001b[38;5;124m\"\u001b[39m)\n",
      "File \u001b[0;32m/Library/Developer/CommandLineTools/Library/Frameworks/Python3.framework/Versions/3.9/lib/python3.9/_strptime.py:568\u001b[0m, in \u001b[0;36m_strptime_datetime\u001b[0;34m(cls, data_string, format)\u001b[0m\n\u001b[1;32m    565\u001b[0m \u001b[38;5;28;01mdef\u001b[39;00m \u001b[38;5;21m_strptime_datetime\u001b[39m(\u001b[38;5;28mcls\u001b[39m, data_string, \u001b[38;5;28mformat\u001b[39m\u001b[38;5;241m=\u001b[39m\u001b[38;5;124m\"\u001b[39m\u001b[38;5;132;01m%a\u001b[39;00m\u001b[38;5;124m \u001b[39m\u001b[38;5;124m%\u001b[39m\u001b[38;5;124mb \u001b[39m\u001b[38;5;132;01m%d\u001b[39;00m\u001b[38;5;124m \u001b[39m\u001b[38;5;124m%\u001b[39m\u001b[38;5;124mH:\u001b[39m\u001b[38;5;124m%\u001b[39m\u001b[38;5;124mM:\u001b[39m\u001b[38;5;124m%\u001b[39m\u001b[38;5;124mS \u001b[39m\u001b[38;5;124m%\u001b[39m\u001b[38;5;124mY\u001b[39m\u001b[38;5;124m\"\u001b[39m):\n\u001b[1;32m    566\u001b[0m \u001b[38;5;250m    \u001b[39m\u001b[38;5;124;03m\"\"\"Return a class cls instance based on the input string and the\u001b[39;00m\n\u001b[1;32m    567\u001b[0m \u001b[38;5;124;03m    format string.\"\"\"\u001b[39;00m\n\u001b[0;32m--> 568\u001b[0m     tt, fraction, gmtoff_fraction \u001b[38;5;241m=\u001b[39m \u001b[43m_strptime\u001b[49m\u001b[43m(\u001b[49m\u001b[43mdata_string\u001b[49m\u001b[43m,\u001b[49m\u001b[43m \u001b[49m\u001b[38;5;28;43mformat\u001b[39;49m\u001b[43m)\u001b[49m\n\u001b[1;32m    569\u001b[0m     tzname, gmtoff \u001b[38;5;241m=\u001b[39m tt[\u001b[38;5;241m-\u001b[39m\u001b[38;5;241m2\u001b[39m:]\n\u001b[1;32m    570\u001b[0m     args \u001b[38;5;241m=\u001b[39m tt[:\u001b[38;5;241m6\u001b[39m] \u001b[38;5;241m+\u001b[39m (fraction,)\n",
      "File \u001b[0;32m/Library/Developer/CommandLineTools/Library/Frameworks/Python3.framework/Versions/3.9/lib/python3.9/_strptime.py:349\u001b[0m, in \u001b[0;36m_strptime\u001b[0;34m(data_string, format)\u001b[0m\n\u001b[1;32m    347\u001b[0m found \u001b[38;5;241m=\u001b[39m format_regex\u001b[38;5;241m.\u001b[39mmatch(data_string)\n\u001b[1;32m    348\u001b[0m \u001b[38;5;28;01mif\u001b[39;00m \u001b[38;5;129;01mnot\u001b[39;00m found:\n\u001b[0;32m--> 349\u001b[0m     \u001b[38;5;28;01mraise\u001b[39;00m \u001b[38;5;167;01mValueError\u001b[39;00m(\u001b[38;5;124m\"\u001b[39m\u001b[38;5;124mtime data \u001b[39m\u001b[38;5;132;01m%r\u001b[39;00m\u001b[38;5;124m does not match format \u001b[39m\u001b[38;5;132;01m%r\u001b[39;00m\u001b[38;5;124m\"\u001b[39m \u001b[38;5;241m%\u001b[39m\n\u001b[1;32m    350\u001b[0m                      (data_string, \u001b[38;5;28mformat\u001b[39m))\n\u001b[1;32m    351\u001b[0m \u001b[38;5;28;01mif\u001b[39;00m \u001b[38;5;28mlen\u001b[39m(data_string) \u001b[38;5;241m!=\u001b[39m found\u001b[38;5;241m.\u001b[39mend():\n\u001b[1;32m    352\u001b[0m     \u001b[38;5;28;01mraise\u001b[39;00m \u001b[38;5;167;01mValueError\u001b[39;00m(\u001b[38;5;124m\"\u001b[39m\u001b[38;5;124munconverted data remains: \u001b[39m\u001b[38;5;132;01m%s\u001b[39;00m\u001b[38;5;124m\"\u001b[39m \u001b[38;5;241m%\u001b[39m\n\u001b[1;32m    353\u001b[0m                       data_string[found\u001b[38;5;241m.\u001b[39mend():])\n",
      "\u001b[0;31mValueError\u001b[0m: time data '14' does not match format '%m/%d/%Y'"
     ]
    }
   ],
   "source": [
    "# input_date = datetime.strptime(day, \"%m/%d/%Y\")\n",
    "\n",
    "# # Format the date string to the desired output format\n",
    "# date_string = input_date.strftime(\"%B %d, %Y\")\n",
    "# print(date_string)\n",
    "#Saturday, May 18, 2024"
   ]
  },
  {
   "cell_type": "code",
   "execution_count": 28,
   "id": "a19b7924-8834-4c0e-a4af-4a1e98103220",
   "metadata": {},
   "outputs": [],
   "source": [
    "# Set up the WebDriver\n",
    "driver = webdriver.Chrome()\n",
    "# Navigate to the Expedia flights page\n",
    "driver.get(\"https://www.expedia.com/Flights\")"
   ]
  },
  {
   "cell_type": "code",
   "execution_count": 29,
   "id": "fe60b678-b9df-4809-a6d3-08ee237acc81",
   "metadata": {},
   "outputs": [],
   "source": [
    "# Click on the One-way link\n",
    "one_way_link = WebDriverWait(driver, 10).until(\n",
    "        EC.element_to_be_clickable((By.XPATH, '//a[contains(@class, \"uitk-tab-anchor\") and contains(.,\"One-way\")]'))\n",
    "    )\n",
    "one_way_link.click()\n",
    "\n",
    "# Click on the \"Leaving from\" button\n",
    "origin_button = WebDriverWait(driver, 10).until(\n",
    "    EC.element_to_be_clickable((By.XPATH, '//button[@aria-label=\"Leaving from\"]'))\n",
    ")\n",
    "origin_button.click()\n",
    "\n",
    "# Enter origin\n",
    "origin_input = WebDriverWait(driver, 10).until(\n",
    "    EC.visibility_of_element_located((By.XPATH, '//input[@placeholder=\"Leaving from\"]'))\n",
    ")\n",
    "origin_input.send_keys(origin)\n",
    "origin_input.send_keys(Keys.RETURN)\n",
    "\n",
    "# Click on the \"Going to\" button\n",
    "destination_button = WebDriverWait(driver, 10).until(\n",
    "    EC.element_to_be_clickable((By.XPATH, '//button[@aria-label=\"Going to\"]'))\n",
    ")\n",
    "destination_button.click()\n",
    "\n",
    "# Enter destination\n",
    "destination_input = WebDriverWait(driver, 10).until(\n",
    "    EC.visibility_of_element_located((By.XPATH, '//input[@placeholder=\"Going to\"]'))\n",
    ")\n",
    "destination_input.send_keys(destination)\n",
    "destination_input.send_keys(Keys.RETURN)"
   ]
  },
  {
   "cell_type": "code",
   "execution_count": 30,
   "id": "0a9d65a8-eb6e-46d0-9e14-2ac42ebbad53",
   "metadata": {},
   "outputs": [],
   "source": [
    "# Click on the Date Picker button to open the Date Picker\n",
    "date_picker_button = WebDriverWait(driver, 10).until(EC.element_to_be_clickable((By.ID, \"date_form_field-btn\")))\n",
    "date_picker_button.click()"
   ]
  },
  {
   "cell_type": "code",
   "execution_count": 31,
   "id": "f5b72297-9787-439b-90c5-7ad22c4247d4",
   "metadata": {},
   "outputs": [],
   "source": [
    "# Wait for the calendar to load\n",
    "WebDriverWait(driver, 10).until(EC.visibility_of_element_located((By.CLASS_NAME, 'uitk-calendar')))\n",
    "# hj = driver.find_elements(By.CLASS_NAME, 'uitk-date-picker-month')\n",
    "# print(len(hj))\n",
    "# hj[2].find_element(By.XPATH,'//button[@data-day=\"' + '14' + '\"]')\n",
    "\n",
    "# day_path = \"//div[@class='uitk-day-aria-label' and @aria-label='{}, Selected date']\".format(date_string)\n",
    "#day_path =\"//button[contains(@aria-label, '{}')]\".format(date_string)\n",
    "\n",
    "day_path = '//button[@data-day=\"' + day + '\"]'\n",
    "# Click on the specific day\n",
    "day_button = WebDriverWait(driver, 10).until(\n",
    "    EC.element_to_be_clickable((By.XPATH, day_path))\n",
    ")\n",
    "# day_button = driver.find_element(By.XPATH, day_path)\n",
    "day_button.click()\n",
    "\n",
    "# Click on the \"Done\" button\n",
    "done_button = WebDriverWait(driver, 10).until(\n",
    "    EC.element_to_be_clickable((By.XPATH, '//button[@data-stid=\"apply-date-picker\"]'))\n",
    ")\n",
    "done_button.click()"
   ]
  },
  {
   "cell_type": "code",
   "execution_count": 34,
   "id": "2ea94989-8428-4018-9f1c-983bccaa6a65",
   "metadata": {},
   "outputs": [
    {
     "ename": "TimeoutException",
     "evalue": "Message: \nStacktrace:\n0   chromedriver                        0x00000001013068cc chromedriver + 4368588\n1   chromedriver                        0x00000001012fed60 chromedriver + 4336992\n2   chromedriver                        0x0000000100f22c04 chromedriver + 289796\n3   chromedriver                        0x0000000100f64e00 chromedriver + 560640\n4   chromedriver                        0x0000000100f9d5ec chromedriver + 792044\n5   chromedriver                        0x0000000100f59ab4 chromedriver + 514740\n6   chromedriver                        0x0000000100f5a50c chromedriver + 517388\n7   chromedriver                        0x00000001012cade8 chromedriver + 4124136\n8   chromedriver                        0x00000001012cfbd8 chromedriver + 4144088\n9   chromedriver                        0x00000001012b07b0 chromedriver + 4016048\n10  chromedriver                        0x00000001012d0508 chromedriver + 4146440\n11  chromedriver                        0x00000001012a2264 chromedriver + 3957348\n12  chromedriver                        0x00000001012efe50 chromedriver + 4275792\n13  chromedriver                        0x00000001012effcc chromedriver + 4276172\n14  chromedriver                        0x00000001012fe9c0 chromedriver + 4336064\n15  libsystem_pthread.dylib             0x000000018dd2e034 _pthread_start + 136\n16  libsystem_pthread.dylib             0x000000018dd28e3c thread_start + 8\n",
     "output_type": "error",
     "traceback": [
      "\u001b[0;31m---------------------------------------------------------------------------\u001b[0m",
      "\u001b[0;31mTimeoutException\u001b[0m                          Traceback (most recent call last)",
      "Cell \u001b[0;32mIn[34], line 8\u001b[0m\n\u001b[1;32m      5\u001b[0m search_button\u001b[38;5;241m.\u001b[39mclick()\n\u001b[1;32m      7\u001b[0m \u001b[38;5;66;03m# Wait for the flight listings to load\u001b[39;00m\n\u001b[0;32m----> 8\u001b[0m \u001b[43mWebDriverWait\u001b[49m\u001b[43m(\u001b[49m\u001b[43mdriver\u001b[49m\u001b[43m,\u001b[49m\u001b[43m \u001b[49m\u001b[38;5;241;43m60\u001b[39;49m\u001b[43m)\u001b[49m\u001b[38;5;241;43m.\u001b[39;49m\u001b[43muntil\u001b[49m\u001b[43m(\u001b[49m\n\u001b[1;32m      9\u001b[0m \u001b[43m    \u001b[49m\u001b[43mEC\u001b[49m\u001b[38;5;241;43m.\u001b[39;49m\u001b[43mvisibility_of_element_located\u001b[49m\u001b[43m(\u001b[49m\u001b[43m(\u001b[49m\u001b[43mBy\u001b[49m\u001b[38;5;241;43m.\u001b[39;49m\u001b[43mXPATH\u001b[49m\u001b[43m,\u001b[49m\u001b[43m \u001b[49m\u001b[38;5;124;43m'\u001b[39;49m\u001b[38;5;124;43m//li[@data-test-id=\u001b[39;49m\u001b[38;5;124;43m\"\u001b[39;49m\u001b[38;5;124;43moffer-listing\u001b[39;49m\u001b[38;5;124;43m\"\u001b[39;49m\u001b[38;5;124;43m]\u001b[39;49m\u001b[38;5;124;43m'\u001b[39;49m\u001b[43m)\u001b[49m\u001b[43m)\u001b[49m\n\u001b[1;32m     10\u001b[0m \u001b[43m)\u001b[49m\n\u001b[1;32m     12\u001b[0m all_listing_info \u001b[38;5;241m=\u001b[39m []\n\u001b[1;32m     14\u001b[0m \u001b[38;5;28;01mwhile\u001b[39;00m \u001b[38;5;28;01mTrue\u001b[39;00m:\n\u001b[1;32m     15\u001b[0m     \u001b[38;5;66;03m# Find all flight listings\u001b[39;00m\n",
      "File \u001b[0;32m~/Library/Python/3.9/lib/python/site-packages/selenium/webdriver/support/wait.py:105\u001b[0m, in \u001b[0;36mWebDriverWait.until\u001b[0;34m(self, method, message)\u001b[0m\n\u001b[1;32m    103\u001b[0m     \u001b[38;5;28;01mif\u001b[39;00m time\u001b[38;5;241m.\u001b[39mmonotonic() \u001b[38;5;241m>\u001b[39m end_time:\n\u001b[1;32m    104\u001b[0m         \u001b[38;5;28;01mbreak\u001b[39;00m\n\u001b[0;32m--> 105\u001b[0m \u001b[38;5;28;01mraise\u001b[39;00m TimeoutException(message, screen, stacktrace)\n",
      "\u001b[0;31mTimeoutException\u001b[0m: Message: \nStacktrace:\n0   chromedriver                        0x00000001013068cc chromedriver + 4368588\n1   chromedriver                        0x00000001012fed60 chromedriver + 4336992\n2   chromedriver                        0x0000000100f22c04 chromedriver + 289796\n3   chromedriver                        0x0000000100f64e00 chromedriver + 560640\n4   chromedriver                        0x0000000100f9d5ec chromedriver + 792044\n5   chromedriver                        0x0000000100f59ab4 chromedriver + 514740\n6   chromedriver                        0x0000000100f5a50c chromedriver + 517388\n7   chromedriver                        0x00000001012cade8 chromedriver + 4124136\n8   chromedriver                        0x00000001012cfbd8 chromedriver + 4144088\n9   chromedriver                        0x00000001012b07b0 chromedriver + 4016048\n10  chromedriver                        0x00000001012d0508 chromedriver + 4146440\n11  chromedriver                        0x00000001012a2264 chromedriver + 3957348\n12  chromedriver                        0x00000001012efe50 chromedriver + 4275792\n13  chromedriver                        0x00000001012effcc chromedriver + 4276172\n14  chromedriver                        0x00000001012fe9c0 chromedriver + 4336064\n15  libsystem_pthread.dylib             0x000000018dd2e034 _pthread_start + 136\n16  libsystem_pthread.dylib             0x000000018dd28e3c thread_start + 8\n"
     ]
    }
   ],
   "source": [
    "    # Click on the search button\n",
    "    search_button = WebDriverWait(driver, 10).until(\n",
    "        EC.element_to_be_clickable((By.XPATH, '//button[@id=\"search_button\"]'))\n",
    "    )\n",
    "    search_button.click()\n",
    "\n",
    "    # Wait for the flight listings to load\n",
    "    WebDriverWait(driver, 60).until(\n",
    "        EC.visibility_of_element_located((By.XPATH, '//li[@data-test-id=\"offer-listing\"]'))\n",
    "    )\n",
    "\n",
    "    all_listing_info = []\n",
    "\n",
    "    while True:\n",
    "        # Find all flight listings\n",
    "        listings = driver.find_elements(By.XPATH, '//li[@data-test-id=\"offer-listing\"]')\n",
    "        # Iterate through each listing\n",
    "        for listing in listings:\n",
    "            # Dictionary to store information for the current listing\n",
    "            listing_info = {}\n",
    "\n",
    "            # Find elements within the current listing\n",
    "            duration = listing.find_element(By.CSS_SELECTOR, '[data-test-id=\"journey-duration\"]').text\n",
    "            price = listing.find_element(By.CSS_SELECTOR, '.uitk-lockup-price').text\n",
    "            airline_info = listing.find_element(By.CSS_SELECTOR, '[data-test-id=\"flight-operated\"]').text.split(' • ')[0]\n",
    "            dept, arr = listing.find_element(By.CSS_SELECTOR, '[data-test-id=\"departure-time\"]').text.split(' - ')    \n",
    "\n",
    "            # link_button = listing.find_element(By.XPATH, './/button[@data-test-id=\"select-link\"]')\n",
    "            # link = link_button.get_attribute(\"onclick\").split(\"window.open('\")[1].split(\"')\")[0]     \n",
    "\n",
    "            # Store information in the dictionary\n",
    "            # listing_info['Link'] = link\n",
    "            listing_info['Dept'] = dept\n",
    "            listing_info['Arr'] = arr\n",
    "            listing_info['Duration'] = duration\n",
    "            listing_info['Price'] = price\n",
    "            listing_info['Company'] = airline_info\n",
    "\n",
    "            # Add the dictionary to the list\n",
    "            all_listing_info.append(listing_info)\n",
    "\n",
    "        # Scroll to load more listings\n",
    "        driver.execute_script(\"window.scrollTo(0, document.body.scrollHeight);\")\n",
    "        # Wait for some time to let new listings load\n",
    "        time.sleep(3)\n",
    "        more_listings = driver.find_elements(By.XPATH, '//li[@data-test-id=\"offer-listing\"]')\n",
    "\n",
    "        if len(more_listings) == len(listings):\n",
    "            break\n",
    "        # Check if there are more listings\n",
    "\n",
    "    #Print all flight listings\n",
    "    # for listing_info in all_listing_info:\n",
    "    #     print(listing_info)\n",
    "    #     print(\"\\n\")\n",
    "\n",
    "    # print(\"done - expedia.com\")\n",
    "\n",
    "    # Close the browser\n",
    "    time.sleep(30)\n",
    "    driver.quit()\n",
    "\n",
    "    print(all_listing_info)\n",
    "\n",
    "    # if __name__ == '__main__':\n",
    "    #     listings = expSearch(\"BWI\", \"JFK\", \"14\")\n",
    "    #     print(listings)"
   ]
  },
  {
   "cell_type": "code",
   "execution_count": null,
   "id": "ff2378fe",
   "metadata": {},
   "outputs": [],
   "source": []
  }
 ],
 "metadata": {
  "kernelspec": {
   "display_name": "Python 3",
   "language": "python",
   "name": "python3"
  },
  "language_info": {
   "codemirror_mode": {
    "name": "ipython",
    "version": 3
   },
   "file_extension": ".py",
   "mimetype": "text/x-python",
   "name": "python",
   "nbconvert_exporter": "python",
   "pygments_lexer": "ipython3",
   "version": "3.9.6"
  }
 },
 "nbformat": 4,
 "nbformat_minor": 5
}
