{
 "cells": [
  {
   "cell_type": "code",
   "execution_count": 1,
   "id": "e252d6e4-1d3e-455c-8350-83e1fc982620",
   "metadata": {},
   "outputs": [],
   "source": [
    "from selenium import webdriver\n",
    "from selenium.webdriver.common.by import By\n",
    "from selenium.webdriver.support.ui import WebDriverWait\n",
    "from selenium.webdriver.support import expected_conditions as EC\n",
    "from selenium.webdriver.common.keys import Keys\n",
    "from selenium.common.exceptions import StaleElementReferenceException, NoSuchElementException\n",
    "from selenium.webdriver.chrome.options import Options\n",
    "from selenium.webdriver.common.action_chains import ActionChains\n",
    "\n",
    "from WUPageSearch import pagesearch\n",
    "\n",
    "from datetime import datetime\n"
   ]
  },
  {
   "cell_type": "code",
   "execution_count": 2,
   "id": "67638ad6-3073-4da2-8588-bc0e86e23ea3",
   "metadata": {},
   "outputs": [],
   "source": [
    "origin = \"BWI\"\n",
    "destination = \"NY\"\n",
    "date = \"05/08/2024\"\n"
   ]
  },
  {
   "cell_type": "code",
   "execution_count": 3,
   "id": "9ac5403b-74d4-499d-9c78-9aece7ac3c98",
   "metadata": {},
   "outputs": [
    {
     "name": "stdout",
     "output_type": "stream",
     "text": [
      "Formatted Date: May 2024\n",
      "Day Integer: 8\n"
     ]
    }
   ],
   "source": [
    "if origin == \"BWI\": \n",
    "    origin = \"Baltimore, MD\"\n",
    "else: \n",
    "    origin = \"New York, NY\"\n",
    "    \n",
    "if destination == \"BWI\": \n",
    "    destination = \"Baltimore, MD\"\n",
    "else: \n",
    "    destination = \"New York, NY\"\n",
    "    \n",
    "#Reformat Date \n",
    "# Parse the date string into a datetime object\n",
    "date_obj = datetime.strptime(date, \"%m/%d/%Y\")\n",
    "# Format the month and year into \"Month Year\" format\n",
    "formatted_date_str = date_obj.strftime(\"%B %Y\")\n",
    "# Extract the day as an integer\n",
    "day_integer = date_obj.day\n",
    "\n",
    "print(\"Formatted Date:\", formatted_date_str)\n",
    "print(\"Day Integer:\", day_integer)"
   ]
  },
  {
   "cell_type": "code",
   "execution_count": 4,
   "id": "9aa7f29a-cb23-4f3d-92c6-0a7f9c397699",
   "metadata": {},
   "outputs": [
    {
     "name": "stdout",
     "output_type": "stream",
     "text": [
      "Driver Initialized\n"
     ]
    }
   ],
   "source": [
    "driver = webdriver.Chrome()\n",
    "\n",
    "\n",
    "# Navigate to the wanderu.com website\n",
    "driver.get(\"https://www.wanderu.com\")\n",
    "print(\"Driver Initialized\")"
   ]
  },
  {
   "cell_type": "code",
   "execution_count": 5,
   "id": "46bbd959-e529-4e8a-9e69-3d0ff2aa827e",
   "metadata": {},
   "outputs": [
    {
     "name": "stdout",
     "output_type": "stream",
     "text": [
      "found origin\n"
     ]
    }
   ],
   "source": [
    "# Select One Way Search\n",
    "# one_way = driver.find_element(By.ID, \"tab-one-way\")\n",
    "# round_trip =  driver.find_element(By.ID, \"tab-round-trip\")\n",
    "\n",
    "# Find Search Bar for Departure Location\n",
    "origin_search = driver.find_element(By.XPATH,'//input[@aria-label=\"departure\" and @data-id=\"origin\"]')\n",
    "origin_search.click()\n",
    "origin_search.clear()\n",
    "print(\"found origin\")\n",
    "origin_search.send_keys(origin)\n",
    "origin_search.send_keys(Keys.RETURN)"
   ]
  },
  {
   "cell_type": "code",
   "execution_count": 6,
   "id": "43147f82-2668-4fe3-b5ab-881b86d0e80b",
   "metadata": {},
   "outputs": [
    {
     "name": "stdout",
     "output_type": "stream",
     "text": [
      "found destination\n"
     ]
    }
   ],
   "source": [
    "# Find Search Bar for Arrival Location\n",
    "destination_search = driver.find_element(By.XPATH,'//input[@aria-label=\"arrival\" and @data-id=\"destination\"]')\n",
    "destination_search.click()\n",
    "print(\"found destination\")\n",
    "destination_search.send_keys(destination)\n",
    "destination_search.send_keys(Keys.RETURN)"
   ]
  },
  {
   "cell_type": "code",
   "execution_count": 7,
   "id": "ebba445e-6cef-4017-ad66-b9a201e99ab6",
   "metadata": {},
   "outputs": [
    {
     "name": "stdout",
     "output_type": "stream",
     "text": [
      "unchecked hotel finder\n"
     ]
    }
   ],
   "source": [
    "# Uncheck Find Cheap Hotels\n",
    "ads_button = driver.find_element(By.CLASS_NAME, \"ZDzGDfvBWCtG\")\n",
    "ads_button.click()\n",
    "print(\"unchecked hotel finder\")"
   ]
  },
  {
   "cell_type": "code",
   "execution_count": 8,
   "id": "3805d5d5-3940-418d-92d8-fa75ca1bc35d",
   "metadata": {},
   "outputs": [
    {
     "name": "stdout",
     "output_type": "stream",
     "text": [
      "date input\n"
     ]
    }
   ],
   "source": [
    "# Set Calendar\n",
    "date_search = driver.find_element(By.CLASS_NAME, \"LtV56aME5ABC\")\n",
    "date_search.click()\n",
    "# WebDriverWait(driver, 3).until(EC.visibilityOfElementLocated(By.CLASS_NAME, \"LtV56aME5ABC\"))\n",
    "month_year = driver.find_element(By.XPATH, '//span[@data-id=\"header-date\"]').text\n",
    "# prev_button = driver.find_element(By.XPATH, '//button[@aria-label=\"previous-month\"]')\n",
    "next_button = driver.find_element(By.XPATH, '//button[@aria-label=\"next-month\"]')\n",
    "cal_target  = datetime.strptime(formatted_date_str, \"%B %Y\")\n",
    "while(month_year != formatted_date_str):\n",
    "    current = datetime.strptime(month_year, \"%B %Y\")\n",
    "    # Compare the datetime objects\n",
    "    if current < cal_target:\n",
    "        next_button.click()\n",
    "    month_year = driver.find_element(By.XPATH, '//span[@data-id=\"header-date\"]').text\n",
    "\n",
    "target_date = driver.find_element(By.XPATH, '//td[@aria-label=\"{}-active\"]'.format(day_integer))\n",
    "target_date.click()\n",
    "\n",
    "print(\"date input\")"
   ]
  },
  {
   "cell_type": "code",
   "execution_count": 9,
   "id": "ed0732ee-02eb-42de-905b-a45ddec19928",
   "metadata": {},
   "outputs": [
    {
     "name": "stdout",
     "output_type": "stream",
     "text": [
      "clicked search button\n"
     ]
    }
   ],
   "source": [
    "#Find Search Button\n",
    "search_button = driver.find_element(By.XPATH, '//button[@type=\"button\" and @label=\"Search\"]')\n",
    "# search_button = WebDriverWait(driver, 3).until(EC.element_to_be_clickable((By.XPATH, \"//button[contains(@class, 'C9btmpKqYElu')]\")))\n",
    "search_button.click()\n",
    "print(\"clicked search button\")"
   ]
  },
  {
   "cell_type": "code",
   "execution_count": 83,
   "id": "18f3125d-79f4-4d38-84ef-e4cc24689df0",
   "metadata": {},
   "outputs": [],
   "source": [
    "# #Get Train Listing\n",
    "hover_train = driver.find_element(By.XPATH,'//span[@class=\"_0-gBaFd8Iwkq\" and text()=\"Trains\"]')\n",
    "# Create an ActionChains object\n",
    "action_train = ActionChains(driver)\n",
    "# Hover over the element\n",
    "action_train.move_to_element(hover_train).move_by_offset(20, 0).click().perform();\n"
   ]
  },
  {
   "cell_type": "code",
   "execution_count": 41,
   "id": "5868ac19-4447-4cb8-8331-d3f82caab4d5",
   "metadata": {},
   "outputs": [],
   "source": [
    "# #Get Bus Listing\n",
    "hover_bus = driver.find_element(By.XPATH,'//span[@class=\"_0-gBaFd8Iwkq\" and text()=\"Buses\"]')\n",
    "# Create an ActionChains object\n",
    "action_bus = ActionChains(driver)\n",
    "# Hover over the element\n",
    "action_bus.move_to_element(hover_bus).move_by_offset(20, 0).click().perform();\n"
   ]
  },
  {
   "cell_type": "code",
   "execution_count": 10,
   "id": "94a1684b-fd33-45fc-ba9e-7087943fcd64",
   "metadata": {},
   "outputs": [],
   "source": [
    "# # Wait for the search results to load\n",
    "# import time\n",
    "# time.sleep(10)\n",
    "\n",
    "#Press Button for all Listings\n",
    "\n",
    "num_listings = driver.find_elements(By.CLASS_NAME, \"_8F5FhShfDaF3\")\n",
    "current = int(num_listings[0].text)\n",
    "total = int(num_listings[1].text)\n",
    "\n",
    "while(current < total): \n",
    "    see_more = driver.find_elements(By.CLASS_NAME, \"C9btmpKqYElu\")[-1]\n",
    "    see_more.click()\n",
    "    WebDriverWait(driver, 10)\n",
    "    current = int(driver.find_elements(By.CLASS_NAME, \"_8F5FhShfDaF3\")[0].text)\n",
    "    WebDriverWait(driver, 10)\n",
    "\n",
    "\n"
   ]
  },
  {
   "cell_type": "code",
   "execution_count": 11,
   "id": "757c14ad-faf6-4c5c-a6d7-6973c6260b8e",
   "metadata": {},
   "outputs": [
    {
     "name": "stdout",
     "output_type": "stream",
     "text": [
      "155\n",
      "{'Dept': '10:51 PM', 'Arr': '1:57 AM', 'Duration': '3h 6m', 'Price': '$30.00', 'Company': 'Amtrak Northeast Regional'}\n",
      "{'Dept': '1:00 PM', 'Arr': '4:30 PM', 'Duration': '3h 30m', 'Price': '$15.00', 'Company': 'Peter Pan Lines'}\n",
      "{'Dept': '6:30 AM', 'Arr': '9:30 AM', 'Duration': '3h 0m', 'Price': '$19.50', 'Company': 'CoachRun'}\n",
      "{'Dept': '10:40 AM', 'Arr': '2:20 PM', 'Duration': '3h 40m', 'Price': '$15.99', 'Company': 'Greyhound'}\n",
      "{'Dept': '4:55 PM', 'Arr': '8:20 PM', 'Duration': '3h 25m', 'Price': '$21.49', 'Company': 'FlixBus US'}\n",
      "{'Dept': '11:01 AM', 'Arr': '1:20 PM', 'Duration': '2h 19m', 'Price': '$228.00', 'Company': 'Amtrak Acela'}\n",
      "{'Dept': '2:15 AM', 'Arr': '5:30 AM', 'Duration': '3h 15m', 'Price': '$35.00', 'Company': 'Wanda Coach'}\n",
      "{'Dept': '6:15 AM', 'Arr': 'Pikesville, MD', 'Duration': '3h 30m', 'Price': '$55.00', 'Company': 'OurBus'}\n",
      "{'Dept': '4:00 PM', 'Arr': '7:30 PM', 'Duration': '3h 30m', 'Price': '$15.00', 'Company': 'Peter Pan Lines'}\n",
      "{'Dept': '9:00 AM', 'Arr': '12:30 PM', 'Duration': '3h 30m', 'Price': '$15.00', 'Company': 'Peter Pan Lines'}\n",
      "{'Dept': '4:14 PM', 'Arr': '6:58 PM', 'Duration': '2h 44m', 'Price': '$48.00', 'Company': 'Amtrak Northeast Regional'}\n",
      "{'Dept': '3:00 PM', 'Arr': '6:30 PM', 'Duration': '3h 30m', 'Price': '$15.00', 'Company': 'Peter Pan Lines'}\n",
      "{'Dept': '3:10 PM', 'Arr': '7:15 PM', 'Duration': '4h 5m', 'Price': '$15.99', 'Company': 'Greyhound'}\n",
      "{'Dept': '10:30 AM', 'Arr': '2:00 PM', 'Duration': '3h 30m', 'Price': '$15.00', 'Company': 'Peter Pan Lines'}\n",
      "{'Dept': '10:19 AM', 'Arr': '12:56 PM', 'Duration': '2h 37m', 'Price': '$69.00', 'Company': 'Amtrak Northeast Regional'}\n",
      "{'Dept': '6:00 PM', 'Arr': '9:30 PM', 'Duration': '3h 30m', 'Price': '$15.00', 'Company': 'Peter Pan Lines'}\n",
      "{'Dept': '8:00 AM', 'Arr': '11:30 AM', 'Duration': '3h 30m', 'Price': '$17.00', 'Company': 'Peter Pan Lines'}\n",
      "{'Dept': '6:50 PM', 'Arr': '10:10 PM', 'Duration': '3h 20m', 'Price': '$21.49', 'Company': 'Greyhound'}\n",
      "{'Dept': '7:00 PM', 'Arr': '10:30 PM', 'Duration': '3h 30m', 'Price': '$17.00', 'Company': 'Peter Pan Lines'}\n",
      "{'Dept': '10:35 PM', 'Arr': '1:57 AM', 'Duration': '3h 22m', 'Price': '$30.00', 'Company': 'Amtrak Northeast Regional'}\n",
      "{'Dept': '11:05 AM', 'Arr': '2:25 PM', 'Duration': '3h 20m', 'Price': '$21.49', 'Company': 'FlixBus US'}\n",
      "{'Dept': '9:25 PM', 'Arr': '12:45 AM', 'Duration': '3h 20m', 'Price': '$21.49', 'Company': 'Greyhound'}\n",
      "{'Dept': '4:50 AM', 'Arr': '8:20 AM', 'Duration': '3h 30m', 'Price': '$21.49', 'Company': 'FlixBus US'}\n",
      "{'Dept': '5:30 PM', 'Arr': '9:10 PM', 'Duration': '3h 40m', 'Price': '$21.49', 'Company': 'Greyhound'}\n",
      "{'Dept': '5:34 AM', 'Arr': '7:48 AM', 'Duration': '2h 14m', 'Price': '$228.00', 'Company': 'Amtrak Acela'}\n",
      "{'Dept': '7:25 AM', 'Arr': '11:00 AM', 'Duration': '3h 35m', 'Price': '$26.49', 'Company': 'FlixBus US'}\n",
      "{'Dept': '8:20 AM', 'Arr': '12:20 PM', 'Duration': '4h 0m', 'Price': '$21.49', 'Company': 'Greyhound'}\n",
      "{'Dept': '9:45 AM', 'Arr': '1:05 PM', 'Duration': '3h 20m', 'Price': '$28.99', 'Company': 'Greyhound'}\n",
      "{'Dept': '9:55 AM', 'Arr': '1:30 PM', 'Duration': '3h 35m', 'Price': '$28.99', 'Company': 'FlixBus US'}\n",
      "{'Dept': '10:53 AM', 'Arr': '1:36 PM', 'Duration': '2h 43m', 'Price': '$69.00', 'Company': 'Amtrak'}\n",
      "{'Dept': '8:05 AM', 'Arr': '11:30 AM', 'Duration': '3h 25m', 'Price': '$28.99', 'Company': 'FlixBus US'}\n",
      "{'Dept': '12:05 PM', 'Arr': '3:30 PM', 'Duration': '3h 25m', 'Price': '$28.99', 'Company': 'FlixBus US'}\n",
      "{'Dept': '1:45 AM', 'Arr': '5:40 AM', 'Duration': '3h 55m', 'Price': '$33.99', 'Company': 'Greyhound'}\n",
      "{'Dept': '11:59 PM', 'Arr': '3:45 AM', 'Duration': '3h 46m', 'Price': '$28.99', 'Company': 'FlixBus US'}\n",
      "{'Dept': '8:27 AM', 'Arr': '11:14 AM', 'Duration': '2h 47m', 'Price': '$69.00', 'Company': 'Amtrak'}\n",
      "{'Dept': '9:45 PM', 'Arr': '1:35 AM', 'Duration': '3h 50m', 'Price': '$28.99', 'Company': 'FlixBus US'}\n",
      "{'Dept': '2:25 PM', 'Arr': '7:15 PM', 'Duration': '4h 50m', 'Price': '$28.99', 'Company': 'Greyhound'}\n",
      "{'Dept': '4:15 PM', 'Arr': '8:55 PM', 'Duration': '4h 40m', 'Price': '$28.99', 'Company': 'Greyhound'}\n",
      "{'Dept': '9:59 PM', 'Arr': '12:45 AM', 'Duration': '2h 46m', 'Price': '$69.00', 'Company': 'Amtrak'}\n",
      "{'Dept': '4:20 AM', 'Arr': '8:55 AM', 'Duration': '4h 35m', 'Price': '$28.99', 'Company': 'Greyhound'}\n",
      "{'Dept': '2:30 PM', 'Arr': '6:30 PM', 'Duration': '4h 0m', 'Price': '$30.00', 'Company': 'Wanda Coach'}\n",
      "{'Dept': '1:30 PM', 'Arr': '3:46 PM', 'Duration': '2h 16m', 'Price': '$287.00', 'Company': 'Amtrak Acela'}\n",
      "{'Dept': '8:42 PM', 'Arr': '11:23 PM', 'Duration': '2h 41m', 'Price': '$69.00', 'Company': 'Amtrak Palmetto'}\n",
      "{'Dept': '8:52 AM', 'Arr': '11:21 AM', 'Duration': '2h 29m', 'Price': '$96.00', 'Company': 'Amtrak Vermonter'}\n",
      "{'Dept': '12:47 PM', 'Arr': '3:20 PM', 'Duration': '2h 33m', 'Price': '$96.00', 'Company': 'Amtrak Northeast Regional'}\n",
      "{'Dept': '7:25 AM', 'Arr': '1:25 PM', 'Duration': '6h 0m', 'Price': '$21.49', 'Company': 'Greyhound'}\n",
      "{'Dept': '2:30 PM', 'Arr': '4:48 PM', 'Duration': '2h 18m', 'Price': '$287.00', 'Company': 'Amtrak Acela'}\n",
      "{'Dept': '9:37 AM', 'Arr': '12:12 PM', 'Duration': '2h 35m', 'Price': '$96.00', 'Company': 'Amtrak Northeast Regional'}\n",
      "{'Dept': '2:48 PM', 'Arr': '5:24 PM', 'Duration': '2h 36m', 'Price': '$96.00', 'Company': 'Amtrak Northeast Regional'}\n",
      "{'Dept': '4:46 PM', 'Arr': '7:24 PM', 'Duration': '2h 38m', 'Price': '$96.00', 'Company': 'Amtrak Northeast Regional'}\n",
      "{'Dept': '10:15 AM', 'Arr': '3:05 PM', 'Duration': '4h 50m', 'Price': '$28.99', 'Company': 'Greyhound'}\n",
      "{'Dept': '8:42 AM', 'Arr': '11:01 AM', 'Duration': '2h 19m', 'Price': '$287.00', 'Company': 'Amtrak Acela'}\n",
      "{'Dept': '2:07 PM', 'Arr': '4:50 PM', 'Duration': '2h 43m', 'Price': '$96.00', 'Company': 'Amtrak Northeast Regional'}\n",
      "{'Dept': '3:48 PM', 'Arr': '6:30 PM', 'Duration': '2h 42m', 'Price': '$96.00', 'Company': 'Amtrak Northeast Regional'}\n",
      "{'Dept': '2:58 PM', 'Arr': '6:01 PM', 'Duration': '3h 3m', 'Price': '$96.00', 'Company': 'Amtrak Crescent'}\n",
      "{'Dept': '3:15 AM', 'Arr': '7:00 AM', 'Duration': '3h 45m', 'Price': '$35.00', 'Company': 'Wanda Coach'}\n",
      "{'Dept': '6:00 PM', 'Arr': '8:23 PM', 'Duration': '2h 23m', 'Price': '$287.00', 'Company': 'Amtrak Acela'}\n",
      "{'Dept': '6:51 PM', 'Arr': '9:26 PM', 'Duration': '2h 35m', 'Price': '$96.00', 'Company': 'Amtrak Northeast Regional'}\n",
      "{'Dept': '1:30 AM', 'Arr': '5:30 AM', 'Duration': '4h 0m', 'Price': '$35.00', 'Company': 'Wanda Coach'}\n",
      "{'Dept': '7:14 AM', 'Arr': '10:02 AM', 'Duration': '2h 48m', 'Price': '$96.00', 'Company': 'Amtrak Northeast Regional'}\n",
      "{'Dept': '4:30 AM', 'Arr': '9:00 AM', 'Duration': '4h 30m', 'Price': '$30.00', 'Company': 'Wanda Coach'}\n",
      "{'Dept': '11:54 AM', 'Arr': '2:33 PM', 'Duration': '2h 39m', 'Price': '$96.00', 'Company': 'Amtrak Northeast Regional'}\n",
      "{'Dept': '7:34 AM', 'Arr': '9:52 AM', 'Duration': '2h 18m', 'Price': '$287.00', 'Company': 'Amtrak Acela'}\n",
      "{'Dept': '7:54 AM', 'Arr': '10:45 AM', 'Duration': '2h 51m', 'Price': '$96.00', 'Company': 'Amtrak Northeast Regional'}\n",
      "{'Dept': '11:18 AM', 'Arr': '2:14 PM', 'Duration': '2h 56m', 'Price': '$96.00', 'Company': 'Amtrak Northeast Regional'}\n",
      "{'Dept': '6:30 AM', 'Arr': 'Towson, MD', 'Duration': '3h 15m', 'Price': '$55.00', 'Company': 'OurBus'}\n",
      "{'Dept': '9:14 PM', 'Arr': '11:50 PM', 'Duration': '2h 36m', 'Price': '$96.00', 'Company': 'Amtrak Northeast Regional'}\n",
      "{'Dept': '3:34 PM', 'Arr': '5:48 PM', 'Duration': '2h 14m', 'Price': '$287.00', 'Company': 'Amtrak Acela'}\n",
      "{'Dept': '3:59 PM', 'Arr': '6:58 PM', 'Duration': '2h 59m', 'Price': '$48.00', 'Company': 'Amtrak Northeast Regional'}\n",
      "{'Dept': '10:03 AM', 'Arr': '12:56 PM', 'Duration': '2h 53m', 'Price': '$69.00', 'Company': 'Amtrak Northeast Regional'}\n",
      "{'Dept': '7:00 AM', 'Arr': '12:00 PM', 'Duration': '5h 0m', 'Price': '$35.00', 'Company': 'Wanda Coach'}\n",
      "{'Dept': '10:37 AM', 'Arr': '1:36 PM', 'Duration': '2h 59m', 'Price': '$69.00', 'Company': 'Amtrak'}\n",
      "{'Dept': '7:00 PM', 'Arr': '9:20 PM', 'Duration': '2h 20m', 'Price': '$287.00', 'Company': 'Amtrak Acela'}\n",
      "{'Dept': '8:24 PM', 'Arr': '11:23 PM', 'Duration': '2h 59m', 'Price': '$69.00', 'Company': 'Amtrak Palmetto'}\n",
      "{'Dept': '8:12 AM', 'Arr': '11:14 AM', 'Duration': '3h 2m', 'Price': '$69.00', 'Company': 'Amtrak'}\n",
      "{'Dept': '2:05 AM', 'Arr': '8:20 AM', 'Duration': '6h 15m', 'Price': '$35.98', 'Company': 'Greyhound'}\n",
      "{'Dept': '9:43 PM', 'Arr': '12:45 AM', 'Duration': '3h 2m', 'Price': '$69.00', 'Company': 'Amtrak'}\n",
      "{'Dept': '4:30 PM', 'Arr': '6:48 PM', 'Duration': '2h 18m', 'Price': '$356.00', 'Company': 'Amtrak Acela'}\n",
      "{'Dept': '8:35 AM', 'Arr': '11:21 AM', 'Duration': '2h 46m', 'Price': '$96.00', 'Company': 'Amtrak Vermonter'}\n",
      "{'Dept': '12:32 PM', 'Arr': '3:20 PM', 'Duration': '2h 48m', 'Price': '$96.00', 'Company': 'Amtrak Northeast Regional'}\n",
      "{'Dept': '6:45 AM', 'Arr': '1:30 PM', 'Duration': '6h 45m', 'Price': '$35.98', 'Company': 'Greyhound'}\n",
      "{'Dept': '2:33 PM', 'Arr': '5:24 PM', 'Duration': '2h 51m', 'Price': '$96.00', 'Company': 'Amtrak Northeast Regional'}\n",
      "{'Dept': '5:21 AM', 'Arr': '7:48 AM', 'Duration': '2h 27m', 'Price': '$230.00', 'Company': 'Amtrak Acela'}\n",
      "{'Dept': '9:20 AM', 'Arr': '12:12 PM', 'Duration': '2h 52m', 'Price': '$96.00', 'Company': 'Amtrak Northeast Regional'}\n",
      "{'Dept': '4:29 PM', 'Arr': '7:24 PM', 'Duration': '2h 55m', 'Price': '$96.00', 'Company': 'Amtrak Northeast Regional'}\n",
      "{'Dept': '3:38 PM', 'Arr': '9:45 PM', 'Duration': '6h 7m', 'Price': '$50.99', 'Company': 'Unknown'}\n",
      "{'Dept': '3:03 PM', 'Arr': '9:45 PM', 'Duration': '6h 42m', 'Price': '$50.99', 'Company': 'Unknown'}\n",
      "{'Dept': '3:03 PM', 'Arr': '9:45 PM', 'Duration': '6h 42m', 'Price': '$50.99', 'Company': 'Unknown'}\n",
      "{'Dept': '5:48 PM', 'Arr': '8:31 PM', 'Duration': '2h 43m', 'Price': '$129.00', 'Company': 'Amtrak Northeast Regional'}\n",
      "{'Dept': '3:03 PM', 'Arr': '9:45 PM', 'Duration': '6h 42m', 'Price': '$50.99', 'Company': 'Unknown'}\n",
      "{'Dept': '2:23 PM', 'Arr': '9:45 PM', 'Duration': '7h 22m', 'Price': '$50.99', 'Company': 'Unknown'}\n",
      "{'Dept': '2:23 PM', 'Arr': '9:45 PM', 'Duration': '7h 22m', 'Price': '$50.99', 'Company': 'Unknown'}\n",
      "{'Dept': '8:27 AM', 'Arr': '11:01 AM', 'Duration': '2h 34m', 'Price': '$289.00', 'Company': 'Amtrak Acela'}\n",
      "{'Dept': '2:23 PM', 'Arr': '9:45 PM', 'Duration': '7h 22m', 'Price': '$50.99', 'Company': 'Unknown'}\n",
      "{'Dept': '2:23 PM', 'Arr': '9:45 PM', 'Duration': '7h 22m', 'Price': '$50.99', 'Company': 'Unknown'}\n",
      "{'Dept': '2:19 PM', 'Arr': '9:45 PM', 'Duration': '7h 26m', 'Price': '$71.99', 'Company': 'Unknown'}\n",
      "{'Dept': '7:18 PM', 'Arr': '10:17 PM', 'Duration': '2h 59m', 'Price': '$129.00', 'Company': 'Amtrak Northeast Regional'}\n",
      "{'Dept': '2:19 PM', 'Arr': '9:45 PM', 'Duration': '7h 26m', 'Price': '$71.99', 'Company': 'Unknown'}\n",
      "{'Dept': '6:58 AM', 'Arr': '1:45 PM', 'Duration': '6h 47m', 'Price': '$62.99', 'Company': 'Unknown'}\n",
      "{'Dept': '6:58 AM', 'Arr': '1:45 PM', 'Duration': '6h 47m', 'Price': '$62.99', 'Company': 'Unknown'}\n",
      "{'Dept': '1:52 PM', 'Arr': '4:50 PM', 'Duration': '2h 58m', 'Price': '$96.00', 'Company': 'Amtrak Northeast Regional'}\n",
      "{'Dept': '3:26 PM', 'Arr': '9:45 PM', 'Duration': '6h 19m', 'Price': '$77.99', 'Company': 'Unknown'}\n",
      "{'Dept': '3:32 PM', 'Arr': '6:30 PM', 'Duration': '2h 58m', 'Price': '$96.00', 'Company': 'Amtrak Northeast Regional'}\n",
      "{'Dept': '3:21 PM', 'Arr': '5:48 PM', 'Duration': '2h 27m', 'Price': '$289.00', 'Company': 'Amtrak Acela'}\n",
      "{'Dept': '11:38 AM', 'Arr': '2:33 PM', 'Duration': '2h 55m', 'Price': '$96.00', 'Company': 'Amtrak Northeast Regional'}\n",
      "{'Dept': '3:35 PM', 'Arr': '9:45 PM', 'Duration': '6h 10m', 'Price': '$36.48', 'Company': 'Greyhound'}\n",
      "{'Dept': '6:35 PM', 'Arr': '9:26 PM', 'Duration': '2h 51m', 'Price': '$96.00', 'Company': 'Amtrak Northeast Regional'}\n",
      "{'Dept': '5:44 AM', 'Arr': '8:27 AM', 'Duration': '2h 43m', 'Price': '$129.00', 'Company': 'Amtrak Northeast Regional'}\n",
      "{'Dept': '7:21 AM', 'Arr': '9:52 AM', 'Duration': '2h 31m', 'Price': '$289.00', 'Company': 'Amtrak Acela'}\n",
      "{'Dept': '8:57 PM', 'Arr': '11:50 PM', 'Duration': '2h 53m', 'Price': '$96.00', 'Company': 'Amtrak Northeast Regional'}\n",
      "{'Dept': '12:25 PM', 'Arr': '7:05 PM', 'Duration': '6h 40m', 'Price': '$36.48', 'Company': 'FlixBus US'}\n",
      "{'Dept': '7:38 AM', 'Arr': '10:45 AM', 'Duration': '3h 7m', 'Price': '$96.00', 'Company': 'Amtrak Northeast Regional'}\n",
      "{'Dept': '6:57 AM', 'Arr': '10:02 AM', 'Duration': '3h 5m', 'Price': '$96.00', 'Company': 'Amtrak Northeast Regional'}\n",
      "{'Dept': '11:02 AM', 'Arr': '2:14 PM', 'Duration': '3h 12m', 'Price': '$96.00', 'Company': 'Amtrak Northeast Regional'}\n",
      "{'Dept': '6:30 PM', 'Arr': '12:45 AM', 'Duration': '6h 15m', 'Price': '$88.00', 'Company': 'Unknown'}\n",
      "{'Dept': '2:41 PM', 'Arr': '6:01 PM', 'Duration': '3h 20m', 'Price': '$96.00', 'Company': 'Amtrak Crescent'}\n",
      "{'Dept': '5:29 AM', 'Arr': '8:27 AM', 'Duration': '2h 58m', 'Price': '$129.00', 'Company': 'Amtrak Northeast Regional'}\n",
      "{'Dept': '5:32 PM', 'Arr': '8:31 PM', 'Duration': '2h 59m', 'Price': '$129.00', 'Company': 'Amtrak Northeast Regional'}\n",
      "{'Dept': '6:45 AM', 'Arr': '1:15 PM', 'Duration': '6h 30m', 'Price': '$35.98', 'Company': 'Greyhound'}\n",
      "{'Dept': '7:03 PM', 'Arr': '10:17 PM', 'Duration': '3h 14m', 'Price': '$129.00', 'Company': 'Amtrak Northeast Regional'}\n",
      "{'Dept': '6:30 AM', 'Arr': '8:48 AM', 'Duration': '2h 18m', 'Price': '$287.00', 'Company': 'Amtrak'}\n",
      "{'Dept': '10:01 AM', 'Arr': '12:24 PM', 'Duration': '2h 23m', 'Price': '$287.00', 'Company': 'Amtrak'}\n",
      "{'Dept': '9:15 PM', 'Arr': '3:45 AM', 'Duration': '6h 30m', 'Price': '$36.98', 'Company': 'Greyhound'}\n",
      "{'Dept': '12:10 PM', 'Arr': '6:30 PM', 'Duration': '6h 20m', 'Price': '$35.98', 'Company': 'FlixBus US'}\n",
      "{'Dept': '3:53 PM', 'Arr': '9:45 PM', 'Duration': '5h 52m', 'Price': '$50.99', 'Company': 'Unknown'}\n",
      "{'Dept': '5:10 AM', 'Arr': '11:15 AM', 'Duration': '6h 5m', 'Price': '$36.48', 'Company': 'FlixBus US'}\n",
      "{'Dept': '6:20 AM', 'Arr': '1:45 PM', 'Duration': '7h 25m', 'Price': '$43.99', 'Company': 'Unknown'}\n",
      "{'Dept': '6:20 AM', 'Arr': '1:45 PM', 'Duration': '7h 25m', 'Price': '$43.99', 'Company': 'Unknown'}\n",
      "{'Dept': '6:20 AM', 'Arr': '1:45 PM', 'Duration': '7h 25m', 'Price': '$43.99', 'Company': 'Unknown'}\n",
      "{'Dept': '12:10 PM', 'Arr': '6:45 PM', 'Duration': '6h 35m', 'Price': '$37.98', 'Company': 'FlixBus US'}\n",
      "{'Dept': '6:20 AM', 'Arr': '1:45 PM', 'Duration': '7h 25m', 'Price': '$43.99', 'Company': 'Unknown'}\n",
      "{'Dept': '5:10 AM', 'Arr': '11:30 AM', 'Duration': '6h 20m', 'Price': '$44.98', 'Company': 'Greyhound'}\n",
      "{'Dept': '2:36 PM', 'Arr': '9:45 PM', 'Duration': '7h 9m', 'Price': '$50.99', 'Company': 'Unknown'}\n",
      "{'Dept': '2:36 PM', 'Arr': '9:45 PM', 'Duration': '7h 9m', 'Price': '$50.99', 'Company': 'Unknown'}\n",
      "{'Dept': '2:16 PM', 'Arr': '9:45 PM', 'Duration': '7h 29m', 'Price': '$50.99', 'Company': 'Unknown'}\n",
      "{'Dept': '5:10 AM', 'Arr': '11:15 AM', 'Duration': '6h 5m', 'Price': '$44.98', 'Company': 'Greyhound'}\n",
      "{'Dept': '2:16 PM', 'Arr': '9:45 PM', 'Duration': '7h 29m', 'Price': '$50.99', 'Company': 'Unknown'}\n",
      "{'Dept': '2:36 PM', 'Arr': '9:45 PM', 'Duration': '7h 9m', 'Price': '$50.99', 'Company': 'Unknown'}\n",
      "{'Dept': '2:16 PM', 'Arr': '9:45 PM', 'Duration': '7h 29m', 'Price': '$50.99', 'Company': 'Unknown'}\n",
      "{'Dept': '1:05 AM', 'Arr': '7:45 AM', 'Duration': '6h 40m', 'Price': '$52.48', 'Company': 'FlixBus US'}\n",
      "{'Dept': '2:36 PM', 'Arr': '9:45 PM', 'Duration': '7h 9m', 'Price': '$50.99', 'Company': 'Unknown'}\n",
      "{'Dept': '2:16 PM', 'Arr': '9:45 PM', 'Duration': '7h 29m', 'Price': '$50.99', 'Company': 'Unknown'}\n",
      "{'Dept': '7:12 AM', 'Arr': '1:45 PM', 'Duration': '6h 33m', 'Price': '$50.99', 'Company': 'Unknown'}\n",
      "{'Dept': '9:45 AM', 'Arr': '3:35 PM', 'Duration': '5h 50m', 'Price': '$35.98', 'Company': 'Greyhound'}\n",
      "{'Dept': '7:12 AM', 'Arr': '1:45 PM', 'Duration': '6h 33m', 'Price': '$50.99', 'Company': 'Unknown'}\n",
      "{'Dept': '3:17 PM', 'Arr': '9:45 PM', 'Duration': '6h 28m', 'Price': '$50.99', 'Company': 'Unknown'}\n",
      "{'Dept': '3:17 PM', 'Arr': '9:45 PM', 'Duration': '6h 28m', 'Price': '$50.99', 'Company': 'Unknown'}\n",
      "{'Dept': '5:10 AM', 'Arr': '3:35 PM', 'Duration': '10h 25m', 'Price': '$37.47', 'Company': 'FlixBus US'}\n",
      "{'Dept': '3:17 PM', 'Arr': '9:45 PM', 'Duration': '6h 28m', 'Price': '$50.99', 'Company': 'Unknown'}\n",
      "{'Dept': '3:39 PM', 'Arr': '9:45 PM', 'Duration': '6h 6m', 'Price': '$68.99', 'Company': 'Unknown'}\n",
      "{'Dept': '6:20 AM', 'Arr': '1:45 PM', 'Duration': '7h 25m', 'Price': '$51.99', 'Company': 'Unknown'}\n",
      "{'Dept': '12:30 PM', 'Arr': '5:48 PM', 'Duration': '5h 18m', 'Price': '$313.00', 'Company': 'Unknown'}\n",
      "{'Dept': '10:30 AM', 'Arr': '3:46 PM', 'Duration': '5h 16m', 'Price': '$313.00', 'Company': 'Unknown'}\n",
      "{'Dept': '1:30 PM', 'Arr': '6:48 PM', 'Duration': '5h 18m', 'Price': '$385.00', 'Company': 'Unknown'}\n",
      "{'Dept': '3:45 PM', 'Arr': '9:20 PM', 'Duration': '5h 35m', 'Price': '$313.00', 'Company': 'Unknown'}\n",
      "done - wanderu\n"
     ]
    }
   ],
   "source": [
    "# #Get Listings\n",
    "listings = driver.find_elements(By.CLASS_NAME, \"gPwYYvClbIG4\")\n",
    "print(len(listings))\n",
    "\n",
    "results = []\n",
    "\n",
    "for ele in listings: \n",
    "    \n",
    "    listing_info = {}\n",
    "\n",
    "    data = ele.text\n",
    "    lines = data.strip().split('\\n')\n",
    "    dept = lines[1]\n",
    "    arr = lines[4]\n",
    "    duration = lines[2]\n",
    "    price = lines[0]\n",
    "    listing_info['Dept'] = dept\n",
    "    listing_info['Arr'] = arr\n",
    "    listing_info['Duration'] = duration\n",
    "    listing_info['Price'] = price\n",
    "    try: \n",
    "        company = ele.find_element(By.CLASS_NAME, \"GrRm34rZfwjd\").get_attribute('alt')\n",
    "        listing_info['Company'] = company\n",
    "    except: \n",
    "        listing_info['Company'] = \"Unknown\"\n",
    "    \n",
    "    results.append(listing_info)\n",
    "    print(listing_info)\n",
    "#     # print(ele)\n",
    " \n",
    "\n",
    "print(\"done - wanderu\")\n",
    "# print(str(results[i])+\"\\n\" for i in range(len(results)))\n",
    "\n",
    "# Close the browser\n",
    "# input()\n",
    "# driver.quit()\n",
    "# print(results)"
   ]
  },
  {
   "cell_type": "code",
   "execution_count": null,
   "id": "bcdecc00-1912-4e7a-a9cb-f672e5b8866b",
   "metadata": {},
   "outputs": [],
   "source": []
  },
  {
   "cell_type": "code",
   "execution_count": null,
   "id": "cc5c9875-677d-4bca-862f-c4ec50691ade",
   "metadata": {},
   "outputs": [],
   "source": []
  }
 ],
 "metadata": {
  "kernelspec": {
   "display_name": "Python 3",
   "language": "python",
   "name": "python3"
  },
  "language_info": {
   "codemirror_mode": {
    "name": "ipython",
    "version": 3
   },
   "file_extension": ".py",
   "mimetype": "text/x-python",
   "name": "python",
   "nbconvert_exporter": "python",
   "pygments_lexer": "ipython3",
   "version": "3.8.8"
  }
 },
 "nbformat": 4,
 "nbformat_minor": 5
}
